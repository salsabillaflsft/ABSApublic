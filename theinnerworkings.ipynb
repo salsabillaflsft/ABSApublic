{
  "nbformat": 4,
  "nbformat_minor": 0,
  "metadata": {
    "colab": {
      "provenance": [],
      "collapsed_sections": [
        "Yotaa2wobLYy",
        "_3fZeDSWA917",
        "vAA9br4DM8BB",
        "0yKv7pcPGaSs",
        "TkyNlazzbR4w",
        "DMU2M-PXLH8X",
        "_NDKn_w4V2WP",
        "F6y9Gzc8UAns",
        "DJLDhpLSUV-Q"
      ],
      "authorship_tag": "ABX9TyNDjIKdJvmtArhJZTj/TxkL",
      "include_colab_link": true
    },
    "kernelspec": {
      "name": "python3",
      "display_name": "Python 3"
    },
    "language_info": {
      "name": "python"
    },
    "widgets": {
      "application/vnd.jupyter.widget-state+json": {
        "bab60fd3fc864defbe9a718929afcb28": {
          "model_module": "@jupyter-widgets/controls",
          "model_name": "HBoxModel",
          "model_module_version": "1.5.0",
          "state": {
            "_dom_classes": [],
            "_model_module": "@jupyter-widgets/controls",
            "_model_module_version": "1.5.0",
            "_model_name": "HBoxModel",
            "_view_count": null,
            "_view_module": "@jupyter-widgets/controls",
            "_view_module_version": "1.5.0",
            "_view_name": "HBoxView",
            "box_style": "",
            "children": [
              "IPY_MODEL_51cdb8e58ee548a2a83ef581cba9c383",
              "IPY_MODEL_10402bc138ab49258cb475bfa1e64327",
              "IPY_MODEL_fa052cd98b6c4944b58eaba4b1bde9df"
            ],
            "layout": "IPY_MODEL_11a69d7dfdbd452ab13675c590dc58b1"
          }
        },
        "51cdb8e58ee548a2a83ef581cba9c383": {
          "model_module": "@jupyter-widgets/controls",
          "model_name": "HTMLModel",
          "model_module_version": "1.5.0",
          "state": {
            "_dom_classes": [],
            "_model_module": "@jupyter-widgets/controls",
            "_model_module_version": "1.5.0",
            "_model_name": "HTMLModel",
            "_view_count": null,
            "_view_module": "@jupyter-widgets/controls",
            "_view_module_version": "1.5.0",
            "_view_name": "HTMLView",
            "description": "",
            "description_tooltip": null,
            "layout": "IPY_MODEL_5002afb6b04c488d8c657a434c3ad868",
            "placeholder": "​",
            "style": "IPY_MODEL_a85f1cacc9b9480fbc5022de15d2e6da",
            "value": "Downloading (…)solve/main/vocab.txt: 100%"
          }
        },
        "10402bc138ab49258cb475bfa1e64327": {
          "model_module": "@jupyter-widgets/controls",
          "model_name": "FloatProgressModel",
          "model_module_version": "1.5.0",
          "state": {
            "_dom_classes": [],
            "_model_module": "@jupyter-widgets/controls",
            "_model_module_version": "1.5.0",
            "_model_name": "FloatProgressModel",
            "_view_count": null,
            "_view_module": "@jupyter-widgets/controls",
            "_view_module_version": "1.5.0",
            "_view_name": "ProgressView",
            "bar_style": "success",
            "description": "",
            "description_tooltip": null,
            "layout": "IPY_MODEL_02ee2ad744a94ed58ee04e6703c70652",
            "max": 229167,
            "min": 0,
            "orientation": "horizontal",
            "style": "IPY_MODEL_cf0d4102697c4aecb99e507454252e1f",
            "value": 229167
          }
        },
        "fa052cd98b6c4944b58eaba4b1bde9df": {
          "model_module": "@jupyter-widgets/controls",
          "model_name": "HTMLModel",
          "model_module_version": "1.5.0",
          "state": {
            "_dom_classes": [],
            "_model_module": "@jupyter-widgets/controls",
            "_model_module_version": "1.5.0",
            "_model_name": "HTMLModel",
            "_view_count": null,
            "_view_module": "@jupyter-widgets/controls",
            "_view_module_version": "1.5.0",
            "_view_name": "HTMLView",
            "description": "",
            "description_tooltip": null,
            "layout": "IPY_MODEL_efb3ba5750b64d2399a2a6b1586a2076",
            "placeholder": "​",
            "style": "IPY_MODEL_14a08eb450624a11abe5a74078606a61",
            "value": " 229k/229k [00:00&lt;00:00, 2.66MB/s]"
          }
        },
        "11a69d7dfdbd452ab13675c590dc58b1": {
          "model_module": "@jupyter-widgets/base",
          "model_name": "LayoutModel",
          "model_module_version": "1.2.0",
          "state": {
            "_model_module": "@jupyter-widgets/base",
            "_model_module_version": "1.2.0",
            "_model_name": "LayoutModel",
            "_view_count": null,
            "_view_module": "@jupyter-widgets/base",
            "_view_module_version": "1.2.0",
            "_view_name": "LayoutView",
            "align_content": null,
            "align_items": null,
            "align_self": null,
            "border": null,
            "bottom": null,
            "display": null,
            "flex": null,
            "flex_flow": null,
            "grid_area": null,
            "grid_auto_columns": null,
            "grid_auto_flow": null,
            "grid_auto_rows": null,
            "grid_column": null,
            "grid_gap": null,
            "grid_row": null,
            "grid_template_areas": null,
            "grid_template_columns": null,
            "grid_template_rows": null,
            "height": null,
            "justify_content": null,
            "justify_items": null,
            "left": null,
            "margin": null,
            "max_height": null,
            "max_width": null,
            "min_height": null,
            "min_width": null,
            "object_fit": null,
            "object_position": null,
            "order": null,
            "overflow": null,
            "overflow_x": null,
            "overflow_y": null,
            "padding": null,
            "right": null,
            "top": null,
            "visibility": null,
            "width": null
          }
        },
        "5002afb6b04c488d8c657a434c3ad868": {
          "model_module": "@jupyter-widgets/base",
          "model_name": "LayoutModel",
          "model_module_version": "1.2.0",
          "state": {
            "_model_module": "@jupyter-widgets/base",
            "_model_module_version": "1.2.0",
            "_model_name": "LayoutModel",
            "_view_count": null,
            "_view_module": "@jupyter-widgets/base",
            "_view_module_version": "1.2.0",
            "_view_name": "LayoutView",
            "align_content": null,
            "align_items": null,
            "align_self": null,
            "border": null,
            "bottom": null,
            "display": null,
            "flex": null,
            "flex_flow": null,
            "grid_area": null,
            "grid_auto_columns": null,
            "grid_auto_flow": null,
            "grid_auto_rows": null,
            "grid_column": null,
            "grid_gap": null,
            "grid_row": null,
            "grid_template_areas": null,
            "grid_template_columns": null,
            "grid_template_rows": null,
            "height": null,
            "justify_content": null,
            "justify_items": null,
            "left": null,
            "margin": null,
            "max_height": null,
            "max_width": null,
            "min_height": null,
            "min_width": null,
            "object_fit": null,
            "object_position": null,
            "order": null,
            "overflow": null,
            "overflow_x": null,
            "overflow_y": null,
            "padding": null,
            "right": null,
            "top": null,
            "visibility": null,
            "width": null
          }
        },
        "a85f1cacc9b9480fbc5022de15d2e6da": {
          "model_module": "@jupyter-widgets/controls",
          "model_name": "DescriptionStyleModel",
          "model_module_version": "1.5.0",
          "state": {
            "_model_module": "@jupyter-widgets/controls",
            "_model_module_version": "1.5.0",
            "_model_name": "DescriptionStyleModel",
            "_view_count": null,
            "_view_module": "@jupyter-widgets/base",
            "_view_module_version": "1.2.0",
            "_view_name": "StyleView",
            "description_width": ""
          }
        },
        "02ee2ad744a94ed58ee04e6703c70652": {
          "model_module": "@jupyter-widgets/base",
          "model_name": "LayoutModel",
          "model_module_version": "1.2.0",
          "state": {
            "_model_module": "@jupyter-widgets/base",
            "_model_module_version": "1.2.0",
            "_model_name": "LayoutModel",
            "_view_count": null,
            "_view_module": "@jupyter-widgets/base",
            "_view_module_version": "1.2.0",
            "_view_name": "LayoutView",
            "align_content": null,
            "align_items": null,
            "align_self": null,
            "border": null,
            "bottom": null,
            "display": null,
            "flex": null,
            "flex_flow": null,
            "grid_area": null,
            "grid_auto_columns": null,
            "grid_auto_flow": null,
            "grid_auto_rows": null,
            "grid_column": null,
            "grid_gap": null,
            "grid_row": null,
            "grid_template_areas": null,
            "grid_template_columns": null,
            "grid_template_rows": null,
            "height": null,
            "justify_content": null,
            "justify_items": null,
            "left": null,
            "margin": null,
            "max_height": null,
            "max_width": null,
            "min_height": null,
            "min_width": null,
            "object_fit": null,
            "object_position": null,
            "order": null,
            "overflow": null,
            "overflow_x": null,
            "overflow_y": null,
            "padding": null,
            "right": null,
            "top": null,
            "visibility": null,
            "width": null
          }
        },
        "cf0d4102697c4aecb99e507454252e1f": {
          "model_module": "@jupyter-widgets/controls",
          "model_name": "ProgressStyleModel",
          "model_module_version": "1.5.0",
          "state": {
            "_model_module": "@jupyter-widgets/controls",
            "_model_module_version": "1.5.0",
            "_model_name": "ProgressStyleModel",
            "_view_count": null,
            "_view_module": "@jupyter-widgets/base",
            "_view_module_version": "1.2.0",
            "_view_name": "StyleView",
            "bar_color": null,
            "description_width": ""
          }
        },
        "efb3ba5750b64d2399a2a6b1586a2076": {
          "model_module": "@jupyter-widgets/base",
          "model_name": "LayoutModel",
          "model_module_version": "1.2.0",
          "state": {
            "_model_module": "@jupyter-widgets/base",
            "_model_module_version": "1.2.0",
            "_model_name": "LayoutModel",
            "_view_count": null,
            "_view_module": "@jupyter-widgets/base",
            "_view_module_version": "1.2.0",
            "_view_name": "LayoutView",
            "align_content": null,
            "align_items": null,
            "align_self": null,
            "border": null,
            "bottom": null,
            "display": null,
            "flex": null,
            "flex_flow": null,
            "grid_area": null,
            "grid_auto_columns": null,
            "grid_auto_flow": null,
            "grid_auto_rows": null,
            "grid_column": null,
            "grid_gap": null,
            "grid_row": null,
            "grid_template_areas": null,
            "grid_template_columns": null,
            "grid_template_rows": null,
            "height": null,
            "justify_content": null,
            "justify_items": null,
            "left": null,
            "margin": null,
            "max_height": null,
            "max_width": null,
            "min_height": null,
            "min_width": null,
            "object_fit": null,
            "object_position": null,
            "order": null,
            "overflow": null,
            "overflow_x": null,
            "overflow_y": null,
            "padding": null,
            "right": null,
            "top": null,
            "visibility": null,
            "width": null
          }
        },
        "14a08eb450624a11abe5a74078606a61": {
          "model_module": "@jupyter-widgets/controls",
          "model_name": "DescriptionStyleModel",
          "model_module_version": "1.5.0",
          "state": {
            "_model_module": "@jupyter-widgets/controls",
            "_model_module_version": "1.5.0",
            "_model_name": "DescriptionStyleModel",
            "_view_count": null,
            "_view_module": "@jupyter-widgets/base",
            "_view_module_version": "1.2.0",
            "_view_name": "StyleView",
            "description_width": ""
          }
        },
        "e3867f1181bf4801b168155ecbf7db14": {
          "model_module": "@jupyter-widgets/controls",
          "model_name": "HBoxModel",
          "model_module_version": "1.5.0",
          "state": {
            "_dom_classes": [],
            "_model_module": "@jupyter-widgets/controls",
            "_model_module_version": "1.5.0",
            "_model_name": "HBoxModel",
            "_view_count": null,
            "_view_module": "@jupyter-widgets/controls",
            "_view_module_version": "1.5.0",
            "_view_name": "HBoxView",
            "box_style": "",
            "children": [
              "IPY_MODEL_df74ee854a6c419d88a6e2382a427a3d",
              "IPY_MODEL_d0a539b89730408987a82e913d8f12a0",
              "IPY_MODEL_a4b5a47dbc38442e88e3df98d4a29796"
            ],
            "layout": "IPY_MODEL_04083175e42a44019cf73e84bc951454"
          }
        },
        "df74ee854a6c419d88a6e2382a427a3d": {
          "model_module": "@jupyter-widgets/controls",
          "model_name": "HTMLModel",
          "model_module_version": "1.5.0",
          "state": {
            "_dom_classes": [],
            "_model_module": "@jupyter-widgets/controls",
            "_model_module_version": "1.5.0",
            "_model_name": "HTMLModel",
            "_view_count": null,
            "_view_module": "@jupyter-widgets/controls",
            "_view_module_version": "1.5.0",
            "_view_name": "HTMLView",
            "description": "",
            "description_tooltip": null,
            "layout": "IPY_MODEL_5f206eeaf994494f98463cc91e320a09",
            "placeholder": "​",
            "style": "IPY_MODEL_c5ea7f3ee8a9461099722b5bd7b90abe",
            "value": "Downloading (…)cial_tokens_map.json: 100%"
          }
        },
        "d0a539b89730408987a82e913d8f12a0": {
          "model_module": "@jupyter-widgets/controls",
          "model_name": "FloatProgressModel",
          "model_module_version": "1.5.0",
          "state": {
            "_dom_classes": [],
            "_model_module": "@jupyter-widgets/controls",
            "_model_module_version": "1.5.0",
            "_model_name": "FloatProgressModel",
            "_view_count": null,
            "_view_module": "@jupyter-widgets/controls",
            "_view_module_version": "1.5.0",
            "_view_name": "ProgressView",
            "bar_style": "success",
            "description": "",
            "description_tooltip": null,
            "layout": "IPY_MODEL_cceac6df340045c0b676086cd1385924",
            "max": 112,
            "min": 0,
            "orientation": "horizontal",
            "style": "IPY_MODEL_e7251ce875de43488eb4439a4ff823c3",
            "value": 112
          }
        },
        "a4b5a47dbc38442e88e3df98d4a29796": {
          "model_module": "@jupyter-widgets/controls",
          "model_name": "HTMLModel",
          "model_module_version": "1.5.0",
          "state": {
            "_dom_classes": [],
            "_model_module": "@jupyter-widgets/controls",
            "_model_module_version": "1.5.0",
            "_model_name": "HTMLModel",
            "_view_count": null,
            "_view_module": "@jupyter-widgets/controls",
            "_view_module_version": "1.5.0",
            "_view_name": "HTMLView",
            "description": "",
            "description_tooltip": null,
            "layout": "IPY_MODEL_54e7ea2bafa145828e6ec8832ea0824b",
            "placeholder": "​",
            "style": "IPY_MODEL_d9a193746bf54321b7e9697413be404e",
            "value": " 112/112 [00:00&lt;00:00, 3.87kB/s]"
          }
        },
        "04083175e42a44019cf73e84bc951454": {
          "model_module": "@jupyter-widgets/base",
          "model_name": "LayoutModel",
          "model_module_version": "1.2.0",
          "state": {
            "_model_module": "@jupyter-widgets/base",
            "_model_module_version": "1.2.0",
            "_model_name": "LayoutModel",
            "_view_count": null,
            "_view_module": "@jupyter-widgets/base",
            "_view_module_version": "1.2.0",
            "_view_name": "LayoutView",
            "align_content": null,
            "align_items": null,
            "align_self": null,
            "border": null,
            "bottom": null,
            "display": null,
            "flex": null,
            "flex_flow": null,
            "grid_area": null,
            "grid_auto_columns": null,
            "grid_auto_flow": null,
            "grid_auto_rows": null,
            "grid_column": null,
            "grid_gap": null,
            "grid_row": null,
            "grid_template_areas": null,
            "grid_template_columns": null,
            "grid_template_rows": null,
            "height": null,
            "justify_content": null,
            "justify_items": null,
            "left": null,
            "margin": null,
            "max_height": null,
            "max_width": null,
            "min_height": null,
            "min_width": null,
            "object_fit": null,
            "object_position": null,
            "order": null,
            "overflow": null,
            "overflow_x": null,
            "overflow_y": null,
            "padding": null,
            "right": null,
            "top": null,
            "visibility": null,
            "width": null
          }
        },
        "5f206eeaf994494f98463cc91e320a09": {
          "model_module": "@jupyter-widgets/base",
          "model_name": "LayoutModel",
          "model_module_version": "1.2.0",
          "state": {
            "_model_module": "@jupyter-widgets/base",
            "_model_module_version": "1.2.0",
            "_model_name": "LayoutModel",
            "_view_count": null,
            "_view_module": "@jupyter-widgets/base",
            "_view_module_version": "1.2.0",
            "_view_name": "LayoutView",
            "align_content": null,
            "align_items": null,
            "align_self": null,
            "border": null,
            "bottom": null,
            "display": null,
            "flex": null,
            "flex_flow": null,
            "grid_area": null,
            "grid_auto_columns": null,
            "grid_auto_flow": null,
            "grid_auto_rows": null,
            "grid_column": null,
            "grid_gap": null,
            "grid_row": null,
            "grid_template_areas": null,
            "grid_template_columns": null,
            "grid_template_rows": null,
            "height": null,
            "justify_content": null,
            "justify_items": null,
            "left": null,
            "margin": null,
            "max_height": null,
            "max_width": null,
            "min_height": null,
            "min_width": null,
            "object_fit": null,
            "object_position": null,
            "order": null,
            "overflow": null,
            "overflow_x": null,
            "overflow_y": null,
            "padding": null,
            "right": null,
            "top": null,
            "visibility": null,
            "width": null
          }
        },
        "c5ea7f3ee8a9461099722b5bd7b90abe": {
          "model_module": "@jupyter-widgets/controls",
          "model_name": "DescriptionStyleModel",
          "model_module_version": "1.5.0",
          "state": {
            "_model_module": "@jupyter-widgets/controls",
            "_model_module_version": "1.5.0",
            "_model_name": "DescriptionStyleModel",
            "_view_count": null,
            "_view_module": "@jupyter-widgets/base",
            "_view_module_version": "1.2.0",
            "_view_name": "StyleView",
            "description_width": ""
          }
        },
        "cceac6df340045c0b676086cd1385924": {
          "model_module": "@jupyter-widgets/base",
          "model_name": "LayoutModel",
          "model_module_version": "1.2.0",
          "state": {
            "_model_module": "@jupyter-widgets/base",
            "_model_module_version": "1.2.0",
            "_model_name": "LayoutModel",
            "_view_count": null,
            "_view_module": "@jupyter-widgets/base",
            "_view_module_version": "1.2.0",
            "_view_name": "LayoutView",
            "align_content": null,
            "align_items": null,
            "align_self": null,
            "border": null,
            "bottom": null,
            "display": null,
            "flex": null,
            "flex_flow": null,
            "grid_area": null,
            "grid_auto_columns": null,
            "grid_auto_flow": null,
            "grid_auto_rows": null,
            "grid_column": null,
            "grid_gap": null,
            "grid_row": null,
            "grid_template_areas": null,
            "grid_template_columns": null,
            "grid_template_rows": null,
            "height": null,
            "justify_content": null,
            "justify_items": null,
            "left": null,
            "margin": null,
            "max_height": null,
            "max_width": null,
            "min_height": null,
            "min_width": null,
            "object_fit": null,
            "object_position": null,
            "order": null,
            "overflow": null,
            "overflow_x": null,
            "overflow_y": null,
            "padding": null,
            "right": null,
            "top": null,
            "visibility": null,
            "width": null
          }
        },
        "e7251ce875de43488eb4439a4ff823c3": {
          "model_module": "@jupyter-widgets/controls",
          "model_name": "ProgressStyleModel",
          "model_module_version": "1.5.0",
          "state": {
            "_model_module": "@jupyter-widgets/controls",
            "_model_module_version": "1.5.0",
            "_model_name": "ProgressStyleModel",
            "_view_count": null,
            "_view_module": "@jupyter-widgets/base",
            "_view_module_version": "1.2.0",
            "_view_name": "StyleView",
            "bar_color": null,
            "description_width": ""
          }
        },
        "54e7ea2bafa145828e6ec8832ea0824b": {
          "model_module": "@jupyter-widgets/base",
          "model_name": "LayoutModel",
          "model_module_version": "1.2.0",
          "state": {
            "_model_module": "@jupyter-widgets/base",
            "_model_module_version": "1.2.0",
            "_model_name": "LayoutModel",
            "_view_count": null,
            "_view_module": "@jupyter-widgets/base",
            "_view_module_version": "1.2.0",
            "_view_name": "LayoutView",
            "align_content": null,
            "align_items": null,
            "align_self": null,
            "border": null,
            "bottom": null,
            "display": null,
            "flex": null,
            "flex_flow": null,
            "grid_area": null,
            "grid_auto_columns": null,
            "grid_auto_flow": null,
            "grid_auto_rows": null,
            "grid_column": null,
            "grid_gap": null,
            "grid_row": null,
            "grid_template_areas": null,
            "grid_template_columns": null,
            "grid_template_rows": null,
            "height": null,
            "justify_content": null,
            "justify_items": null,
            "left": null,
            "margin": null,
            "max_height": null,
            "max_width": null,
            "min_height": null,
            "min_width": null,
            "object_fit": null,
            "object_position": null,
            "order": null,
            "overflow": null,
            "overflow_x": null,
            "overflow_y": null,
            "padding": null,
            "right": null,
            "top": null,
            "visibility": null,
            "width": null
          }
        },
        "d9a193746bf54321b7e9697413be404e": {
          "model_module": "@jupyter-widgets/controls",
          "model_name": "DescriptionStyleModel",
          "model_module_version": "1.5.0",
          "state": {
            "_model_module": "@jupyter-widgets/controls",
            "_model_module_version": "1.5.0",
            "_model_name": "DescriptionStyleModel",
            "_view_count": null,
            "_view_module": "@jupyter-widgets/base",
            "_view_module_version": "1.2.0",
            "_view_name": "StyleView",
            "description_width": ""
          }
        },
        "cd386139850e4f9c89d349030d7d2308": {
          "model_module": "@jupyter-widgets/controls",
          "model_name": "HBoxModel",
          "model_module_version": "1.5.0",
          "state": {
            "_dom_classes": [],
            "_model_module": "@jupyter-widgets/controls",
            "_model_module_version": "1.5.0",
            "_model_name": "HBoxModel",
            "_view_count": null,
            "_view_module": "@jupyter-widgets/controls",
            "_view_module_version": "1.5.0",
            "_view_name": "HBoxView",
            "box_style": "",
            "children": [
              "IPY_MODEL_d83f46a3813344f4b51286de429b8290",
              "IPY_MODEL_f7e51a629bf845ce8b9466d976ae6e92",
              "IPY_MODEL_b5a6d9ae9a6a4bdba02cea73477c4322"
            ],
            "layout": "IPY_MODEL_f8ef95419f654f16adad65d32b8f9384"
          }
        },
        "d83f46a3813344f4b51286de429b8290": {
          "model_module": "@jupyter-widgets/controls",
          "model_name": "HTMLModel",
          "model_module_version": "1.5.0",
          "state": {
            "_dom_classes": [],
            "_model_module": "@jupyter-widgets/controls",
            "_model_module_version": "1.5.0",
            "_model_name": "HTMLModel",
            "_view_count": null,
            "_view_module": "@jupyter-widgets/controls",
            "_view_module_version": "1.5.0",
            "_view_name": "HTMLView",
            "description": "",
            "description_tooltip": null,
            "layout": "IPY_MODEL_2db44b7ca6c74d13813d787502a2e370",
            "placeholder": "​",
            "style": "IPY_MODEL_b2713a30c38542f49f708e3684406b8b",
            "value": "Downloading (…)okenizer_config.json: 100%"
          }
        },
        "f7e51a629bf845ce8b9466d976ae6e92": {
          "model_module": "@jupyter-widgets/controls",
          "model_name": "FloatProgressModel",
          "model_module_version": "1.5.0",
          "state": {
            "_dom_classes": [],
            "_model_module": "@jupyter-widgets/controls",
            "_model_module_version": "1.5.0",
            "_model_name": "FloatProgressModel",
            "_view_count": null,
            "_view_module": "@jupyter-widgets/controls",
            "_view_module_version": "1.5.0",
            "_view_name": "ProgressView",
            "bar_style": "success",
            "description": "",
            "description_tooltip": null,
            "layout": "IPY_MODEL_93e331912ce04ed882b329ff1cf407ad",
            "max": 2,
            "min": 0,
            "orientation": "horizontal",
            "style": "IPY_MODEL_5d4423f79cb442b2afac7278a0a8730d",
            "value": 2
          }
        },
        "b5a6d9ae9a6a4bdba02cea73477c4322": {
          "model_module": "@jupyter-widgets/controls",
          "model_name": "HTMLModel",
          "model_module_version": "1.5.0",
          "state": {
            "_dom_classes": [],
            "_model_module": "@jupyter-widgets/controls",
            "_model_module_version": "1.5.0",
            "_model_name": "HTMLModel",
            "_view_count": null,
            "_view_module": "@jupyter-widgets/controls",
            "_view_module_version": "1.5.0",
            "_view_name": "HTMLView",
            "description": "",
            "description_tooltip": null,
            "layout": "IPY_MODEL_4456dca52ce740aaa4fe3722b0ae7a98",
            "placeholder": "​",
            "style": "IPY_MODEL_b0f8949fec424ce994ccf7862694ed1c",
            "value": " 2.00/2.00 [00:00&lt;00:00, 91.3B/s]"
          }
        },
        "f8ef95419f654f16adad65d32b8f9384": {
          "model_module": "@jupyter-widgets/base",
          "model_name": "LayoutModel",
          "model_module_version": "1.2.0",
          "state": {
            "_model_module": "@jupyter-widgets/base",
            "_model_module_version": "1.2.0",
            "_model_name": "LayoutModel",
            "_view_count": null,
            "_view_module": "@jupyter-widgets/base",
            "_view_module_version": "1.2.0",
            "_view_name": "LayoutView",
            "align_content": null,
            "align_items": null,
            "align_self": null,
            "border": null,
            "bottom": null,
            "display": null,
            "flex": null,
            "flex_flow": null,
            "grid_area": null,
            "grid_auto_columns": null,
            "grid_auto_flow": null,
            "grid_auto_rows": null,
            "grid_column": null,
            "grid_gap": null,
            "grid_row": null,
            "grid_template_areas": null,
            "grid_template_columns": null,
            "grid_template_rows": null,
            "height": null,
            "justify_content": null,
            "justify_items": null,
            "left": null,
            "margin": null,
            "max_height": null,
            "max_width": null,
            "min_height": null,
            "min_width": null,
            "object_fit": null,
            "object_position": null,
            "order": null,
            "overflow": null,
            "overflow_x": null,
            "overflow_y": null,
            "padding": null,
            "right": null,
            "top": null,
            "visibility": null,
            "width": null
          }
        },
        "2db44b7ca6c74d13813d787502a2e370": {
          "model_module": "@jupyter-widgets/base",
          "model_name": "LayoutModel",
          "model_module_version": "1.2.0",
          "state": {
            "_model_module": "@jupyter-widgets/base",
            "_model_module_version": "1.2.0",
            "_model_name": "LayoutModel",
            "_view_count": null,
            "_view_module": "@jupyter-widgets/base",
            "_view_module_version": "1.2.0",
            "_view_name": "LayoutView",
            "align_content": null,
            "align_items": null,
            "align_self": null,
            "border": null,
            "bottom": null,
            "display": null,
            "flex": null,
            "flex_flow": null,
            "grid_area": null,
            "grid_auto_columns": null,
            "grid_auto_flow": null,
            "grid_auto_rows": null,
            "grid_column": null,
            "grid_gap": null,
            "grid_row": null,
            "grid_template_areas": null,
            "grid_template_columns": null,
            "grid_template_rows": null,
            "height": null,
            "justify_content": null,
            "justify_items": null,
            "left": null,
            "margin": null,
            "max_height": null,
            "max_width": null,
            "min_height": null,
            "min_width": null,
            "object_fit": null,
            "object_position": null,
            "order": null,
            "overflow": null,
            "overflow_x": null,
            "overflow_y": null,
            "padding": null,
            "right": null,
            "top": null,
            "visibility": null,
            "width": null
          }
        },
        "b2713a30c38542f49f708e3684406b8b": {
          "model_module": "@jupyter-widgets/controls",
          "model_name": "DescriptionStyleModel",
          "model_module_version": "1.5.0",
          "state": {
            "_model_module": "@jupyter-widgets/controls",
            "_model_module_version": "1.5.0",
            "_model_name": "DescriptionStyleModel",
            "_view_count": null,
            "_view_module": "@jupyter-widgets/base",
            "_view_module_version": "1.2.0",
            "_view_name": "StyleView",
            "description_width": ""
          }
        },
        "93e331912ce04ed882b329ff1cf407ad": {
          "model_module": "@jupyter-widgets/base",
          "model_name": "LayoutModel",
          "model_module_version": "1.2.0",
          "state": {
            "_model_module": "@jupyter-widgets/base",
            "_model_module_version": "1.2.0",
            "_model_name": "LayoutModel",
            "_view_count": null,
            "_view_module": "@jupyter-widgets/base",
            "_view_module_version": "1.2.0",
            "_view_name": "LayoutView",
            "align_content": null,
            "align_items": null,
            "align_self": null,
            "border": null,
            "bottom": null,
            "display": null,
            "flex": null,
            "flex_flow": null,
            "grid_area": null,
            "grid_auto_columns": null,
            "grid_auto_flow": null,
            "grid_auto_rows": null,
            "grid_column": null,
            "grid_gap": null,
            "grid_row": null,
            "grid_template_areas": null,
            "grid_template_columns": null,
            "grid_template_rows": null,
            "height": null,
            "justify_content": null,
            "justify_items": null,
            "left": null,
            "margin": null,
            "max_height": null,
            "max_width": null,
            "min_height": null,
            "min_width": null,
            "object_fit": null,
            "object_position": null,
            "order": null,
            "overflow": null,
            "overflow_x": null,
            "overflow_y": null,
            "padding": null,
            "right": null,
            "top": null,
            "visibility": null,
            "width": null
          }
        },
        "5d4423f79cb442b2afac7278a0a8730d": {
          "model_module": "@jupyter-widgets/controls",
          "model_name": "ProgressStyleModel",
          "model_module_version": "1.5.0",
          "state": {
            "_model_module": "@jupyter-widgets/controls",
            "_model_module_version": "1.5.0",
            "_model_name": "ProgressStyleModel",
            "_view_count": null,
            "_view_module": "@jupyter-widgets/base",
            "_view_module_version": "1.2.0",
            "_view_name": "StyleView",
            "bar_color": null,
            "description_width": ""
          }
        },
        "4456dca52ce740aaa4fe3722b0ae7a98": {
          "model_module": "@jupyter-widgets/base",
          "model_name": "LayoutModel",
          "model_module_version": "1.2.0",
          "state": {
            "_model_module": "@jupyter-widgets/base",
            "_model_module_version": "1.2.0",
            "_model_name": "LayoutModel",
            "_view_count": null,
            "_view_module": "@jupyter-widgets/base",
            "_view_module_version": "1.2.0",
            "_view_name": "LayoutView",
            "align_content": null,
            "align_items": null,
            "align_self": null,
            "border": null,
            "bottom": null,
            "display": null,
            "flex": null,
            "flex_flow": null,
            "grid_area": null,
            "grid_auto_columns": null,
            "grid_auto_flow": null,
            "grid_auto_rows": null,
            "grid_column": null,
            "grid_gap": null,
            "grid_row": null,
            "grid_template_areas": null,
            "grid_template_columns": null,
            "grid_template_rows": null,
            "height": null,
            "justify_content": null,
            "justify_items": null,
            "left": null,
            "margin": null,
            "max_height": null,
            "max_width": null,
            "min_height": null,
            "min_width": null,
            "object_fit": null,
            "object_position": null,
            "order": null,
            "overflow": null,
            "overflow_x": null,
            "overflow_y": null,
            "padding": null,
            "right": null,
            "top": null,
            "visibility": null,
            "width": null
          }
        },
        "b0f8949fec424ce994ccf7862694ed1c": {
          "model_module": "@jupyter-widgets/controls",
          "model_name": "DescriptionStyleModel",
          "model_module_version": "1.5.0",
          "state": {
            "_model_module": "@jupyter-widgets/controls",
            "_model_module_version": "1.5.0",
            "_model_name": "DescriptionStyleModel",
            "_view_count": null,
            "_view_module": "@jupyter-widgets/base",
            "_view_module_version": "1.2.0",
            "_view_name": "StyleView",
            "description_width": ""
          }
        },
        "35857b2e54c44a67a69964a972d71d94": {
          "model_module": "@jupyter-widgets/controls",
          "model_name": "HBoxModel",
          "model_module_version": "1.5.0",
          "state": {
            "_dom_classes": [],
            "_model_module": "@jupyter-widgets/controls",
            "_model_module_version": "1.5.0",
            "_model_name": "HBoxModel",
            "_view_count": null,
            "_view_module": "@jupyter-widgets/controls",
            "_view_module_version": "1.5.0",
            "_view_name": "HBoxView",
            "box_style": "",
            "children": [
              "IPY_MODEL_878095d6c444416aaee3d23d1630a956",
              "IPY_MODEL_47bd1e3a2088491f8839182bf83a00c6",
              "IPY_MODEL_6a6b81bfb19f434098bfac0fa3b9b1a8"
            ],
            "layout": "IPY_MODEL_c45d326117fd41dc857042ef21865557"
          }
        },
        "878095d6c444416aaee3d23d1630a956": {
          "model_module": "@jupyter-widgets/controls",
          "model_name": "HTMLModel",
          "model_module_version": "1.5.0",
          "state": {
            "_dom_classes": [],
            "_model_module": "@jupyter-widgets/controls",
            "_model_module_version": "1.5.0",
            "_model_name": "HTMLModel",
            "_view_count": null,
            "_view_module": "@jupyter-widgets/controls",
            "_view_module_version": "1.5.0",
            "_view_name": "HTMLView",
            "description": "",
            "description_tooltip": null,
            "layout": "IPY_MODEL_b0fa7d28988043d6a36db4ee3268adb9",
            "placeholder": "​",
            "style": "IPY_MODEL_0f853cb32e3941f7a4aa0966d9276b67",
            "value": "Downloading (…)lve/main/config.json: 100%"
          }
        },
        "47bd1e3a2088491f8839182bf83a00c6": {
          "model_module": "@jupyter-widgets/controls",
          "model_name": "FloatProgressModel",
          "model_module_version": "1.5.0",
          "state": {
            "_dom_classes": [],
            "_model_module": "@jupyter-widgets/controls",
            "_model_module_version": "1.5.0",
            "_model_name": "FloatProgressModel",
            "_view_count": null,
            "_view_module": "@jupyter-widgets/controls",
            "_view_module_version": "1.5.0",
            "_view_name": "ProgressView",
            "bar_style": "success",
            "description": "",
            "description_tooltip": null,
            "layout": "IPY_MODEL_6799560d63554287a6e767283e1ec4f6",
            "max": 1534,
            "min": 0,
            "orientation": "horizontal",
            "style": "IPY_MODEL_3174c255e8c04d528058fd0689a36ad0",
            "value": 1534
          }
        },
        "6a6b81bfb19f434098bfac0fa3b9b1a8": {
          "model_module": "@jupyter-widgets/controls",
          "model_name": "HTMLModel",
          "model_module_version": "1.5.0",
          "state": {
            "_dom_classes": [],
            "_model_module": "@jupyter-widgets/controls",
            "_model_module_version": "1.5.0",
            "_model_name": "HTMLModel",
            "_view_count": null,
            "_view_module": "@jupyter-widgets/controls",
            "_view_module_version": "1.5.0",
            "_view_name": "HTMLView",
            "description": "",
            "description_tooltip": null,
            "layout": "IPY_MODEL_3cfe2e9c379b4597833eb0ee63d49790",
            "placeholder": "​",
            "style": "IPY_MODEL_9c23fba45c954b218cebc3b9ec737b5e",
            "value": " 1.53k/1.53k [00:00&lt;00:00, 28.7kB/s]"
          }
        },
        "c45d326117fd41dc857042ef21865557": {
          "model_module": "@jupyter-widgets/base",
          "model_name": "LayoutModel",
          "model_module_version": "1.2.0",
          "state": {
            "_model_module": "@jupyter-widgets/base",
            "_model_module_version": "1.2.0",
            "_model_name": "LayoutModel",
            "_view_count": null,
            "_view_module": "@jupyter-widgets/base",
            "_view_module_version": "1.2.0",
            "_view_name": "LayoutView",
            "align_content": null,
            "align_items": null,
            "align_self": null,
            "border": null,
            "bottom": null,
            "display": null,
            "flex": null,
            "flex_flow": null,
            "grid_area": null,
            "grid_auto_columns": null,
            "grid_auto_flow": null,
            "grid_auto_rows": null,
            "grid_column": null,
            "grid_gap": null,
            "grid_row": null,
            "grid_template_areas": null,
            "grid_template_columns": null,
            "grid_template_rows": null,
            "height": null,
            "justify_content": null,
            "justify_items": null,
            "left": null,
            "margin": null,
            "max_height": null,
            "max_width": null,
            "min_height": null,
            "min_width": null,
            "object_fit": null,
            "object_position": null,
            "order": null,
            "overflow": null,
            "overflow_x": null,
            "overflow_y": null,
            "padding": null,
            "right": null,
            "top": null,
            "visibility": null,
            "width": null
          }
        },
        "b0fa7d28988043d6a36db4ee3268adb9": {
          "model_module": "@jupyter-widgets/base",
          "model_name": "LayoutModel",
          "model_module_version": "1.2.0",
          "state": {
            "_model_module": "@jupyter-widgets/base",
            "_model_module_version": "1.2.0",
            "_model_name": "LayoutModel",
            "_view_count": null,
            "_view_module": "@jupyter-widgets/base",
            "_view_module_version": "1.2.0",
            "_view_name": "LayoutView",
            "align_content": null,
            "align_items": null,
            "align_self": null,
            "border": null,
            "bottom": null,
            "display": null,
            "flex": null,
            "flex_flow": null,
            "grid_area": null,
            "grid_auto_columns": null,
            "grid_auto_flow": null,
            "grid_auto_rows": null,
            "grid_column": null,
            "grid_gap": null,
            "grid_row": null,
            "grid_template_areas": null,
            "grid_template_columns": null,
            "grid_template_rows": null,
            "height": null,
            "justify_content": null,
            "justify_items": null,
            "left": null,
            "margin": null,
            "max_height": null,
            "max_width": null,
            "min_height": null,
            "min_width": null,
            "object_fit": null,
            "object_position": null,
            "order": null,
            "overflow": null,
            "overflow_x": null,
            "overflow_y": null,
            "padding": null,
            "right": null,
            "top": null,
            "visibility": null,
            "width": null
          }
        },
        "0f853cb32e3941f7a4aa0966d9276b67": {
          "model_module": "@jupyter-widgets/controls",
          "model_name": "DescriptionStyleModel",
          "model_module_version": "1.5.0",
          "state": {
            "_model_module": "@jupyter-widgets/controls",
            "_model_module_version": "1.5.0",
            "_model_name": "DescriptionStyleModel",
            "_view_count": null,
            "_view_module": "@jupyter-widgets/base",
            "_view_module_version": "1.2.0",
            "_view_name": "StyleView",
            "description_width": ""
          }
        },
        "6799560d63554287a6e767283e1ec4f6": {
          "model_module": "@jupyter-widgets/base",
          "model_name": "LayoutModel",
          "model_module_version": "1.2.0",
          "state": {
            "_model_module": "@jupyter-widgets/base",
            "_model_module_version": "1.2.0",
            "_model_name": "LayoutModel",
            "_view_count": null,
            "_view_module": "@jupyter-widgets/base",
            "_view_module_version": "1.2.0",
            "_view_name": "LayoutView",
            "align_content": null,
            "align_items": null,
            "align_self": null,
            "border": null,
            "bottom": null,
            "display": null,
            "flex": null,
            "flex_flow": null,
            "grid_area": null,
            "grid_auto_columns": null,
            "grid_auto_flow": null,
            "grid_auto_rows": null,
            "grid_column": null,
            "grid_gap": null,
            "grid_row": null,
            "grid_template_areas": null,
            "grid_template_columns": null,
            "grid_template_rows": null,
            "height": null,
            "justify_content": null,
            "justify_items": null,
            "left": null,
            "margin": null,
            "max_height": null,
            "max_width": null,
            "min_height": null,
            "min_width": null,
            "object_fit": null,
            "object_position": null,
            "order": null,
            "overflow": null,
            "overflow_x": null,
            "overflow_y": null,
            "padding": null,
            "right": null,
            "top": null,
            "visibility": null,
            "width": null
          }
        },
        "3174c255e8c04d528058fd0689a36ad0": {
          "model_module": "@jupyter-widgets/controls",
          "model_name": "ProgressStyleModel",
          "model_module_version": "1.5.0",
          "state": {
            "_model_module": "@jupyter-widgets/controls",
            "_model_module_version": "1.5.0",
            "_model_name": "ProgressStyleModel",
            "_view_count": null,
            "_view_module": "@jupyter-widgets/base",
            "_view_module_version": "1.2.0",
            "_view_name": "StyleView",
            "bar_color": null,
            "description_width": ""
          }
        },
        "3cfe2e9c379b4597833eb0ee63d49790": {
          "model_module": "@jupyter-widgets/base",
          "model_name": "LayoutModel",
          "model_module_version": "1.2.0",
          "state": {
            "_model_module": "@jupyter-widgets/base",
            "_model_module_version": "1.2.0",
            "_model_name": "LayoutModel",
            "_view_count": null,
            "_view_module": "@jupyter-widgets/base",
            "_view_module_version": "1.2.0",
            "_view_name": "LayoutView",
            "align_content": null,
            "align_items": null,
            "align_self": null,
            "border": null,
            "bottom": null,
            "display": null,
            "flex": null,
            "flex_flow": null,
            "grid_area": null,
            "grid_auto_columns": null,
            "grid_auto_flow": null,
            "grid_auto_rows": null,
            "grid_column": null,
            "grid_gap": null,
            "grid_row": null,
            "grid_template_areas": null,
            "grid_template_columns": null,
            "grid_template_rows": null,
            "height": null,
            "justify_content": null,
            "justify_items": null,
            "left": null,
            "margin": null,
            "max_height": null,
            "max_width": null,
            "min_height": null,
            "min_width": null,
            "object_fit": null,
            "object_position": null,
            "order": null,
            "overflow": null,
            "overflow_x": null,
            "overflow_y": null,
            "padding": null,
            "right": null,
            "top": null,
            "visibility": null,
            "width": null
          }
        },
        "9c23fba45c954b218cebc3b9ec737b5e": {
          "model_module": "@jupyter-widgets/controls",
          "model_name": "DescriptionStyleModel",
          "model_module_version": "1.5.0",
          "state": {
            "_model_module": "@jupyter-widgets/controls",
            "_model_module_version": "1.5.0",
            "_model_name": "DescriptionStyleModel",
            "_view_count": null,
            "_view_module": "@jupyter-widgets/base",
            "_view_module_version": "1.2.0",
            "_view_name": "StyleView",
            "description_width": ""
          }
        },
        "f51887e701d1447894f9a4c102b9f988": {
          "model_module": "@jupyter-widgets/controls",
          "model_name": "HBoxModel",
          "model_module_version": "1.5.0",
          "state": {
            "_dom_classes": [],
            "_model_module": "@jupyter-widgets/controls",
            "_model_module_version": "1.5.0",
            "_model_name": "HBoxModel",
            "_view_count": null,
            "_view_module": "@jupyter-widgets/controls",
            "_view_module_version": "1.5.0",
            "_view_name": "HBoxView",
            "box_style": "",
            "children": [
              "IPY_MODEL_5109dfd5663542e28752cd2b5234ea57",
              "IPY_MODEL_b3e44ee1925a4aafa6acc1fc8bfad20c",
              "IPY_MODEL_048c83e5431c4355a5d1e5740b893635"
            ],
            "layout": "IPY_MODEL_541d28416f94436086b6aacc6e74cd9a"
          }
        },
        "5109dfd5663542e28752cd2b5234ea57": {
          "model_module": "@jupyter-widgets/controls",
          "model_name": "HTMLModel",
          "model_module_version": "1.5.0",
          "state": {
            "_dom_classes": [],
            "_model_module": "@jupyter-widgets/controls",
            "_model_module_version": "1.5.0",
            "_model_name": "HTMLModel",
            "_view_count": null,
            "_view_module": "@jupyter-widgets/controls",
            "_view_module_version": "1.5.0",
            "_view_name": "HTMLView",
            "description": "",
            "description_tooltip": null,
            "layout": "IPY_MODEL_fb2a6e58e74e4a538af8edbf7dbd78e5",
            "placeholder": "​",
            "style": "IPY_MODEL_a398e466eb124448bda8f8aa7745c951",
            "value": "Downloading pytorch_model.bin: 100%"
          }
        },
        "b3e44ee1925a4aafa6acc1fc8bfad20c": {
          "model_module": "@jupyter-widgets/controls",
          "model_name": "FloatProgressModel",
          "model_module_version": "1.5.0",
          "state": {
            "_dom_classes": [],
            "_model_module": "@jupyter-widgets/controls",
            "_model_module_version": "1.5.0",
            "_model_name": "FloatProgressModel",
            "_view_count": null,
            "_view_module": "@jupyter-widgets/controls",
            "_view_module_version": "1.5.0",
            "_view_name": "ProgressView",
            "bar_style": "success",
            "description": "",
            "description_tooltip": null,
            "layout": "IPY_MODEL_c1320e726d4642ebb19c17357764d2ae",
            "max": 497810400,
            "min": 0,
            "orientation": "horizontal",
            "style": "IPY_MODEL_c4eada5194874476a7d1e8e708c09104",
            "value": 497810400
          }
        },
        "048c83e5431c4355a5d1e5740b893635": {
          "model_module": "@jupyter-widgets/controls",
          "model_name": "HTMLModel",
          "model_module_version": "1.5.0",
          "state": {
            "_dom_classes": [],
            "_model_module": "@jupyter-widgets/controls",
            "_model_module_version": "1.5.0",
            "_model_name": "HTMLModel",
            "_view_count": null,
            "_view_module": "@jupyter-widgets/controls",
            "_view_module_version": "1.5.0",
            "_view_name": "HTMLView",
            "description": "",
            "description_tooltip": null,
            "layout": "IPY_MODEL_80b0ac71a56b467ba1902d6415a6dd18",
            "placeholder": "​",
            "style": "IPY_MODEL_c1819e267d9849f4845d1ff437274be5",
            "value": " 498M/498M [00:01&lt;00:00, 276MB/s]"
          }
        },
        "541d28416f94436086b6aacc6e74cd9a": {
          "model_module": "@jupyter-widgets/base",
          "model_name": "LayoutModel",
          "model_module_version": "1.2.0",
          "state": {
            "_model_module": "@jupyter-widgets/base",
            "_model_module_version": "1.2.0",
            "_model_name": "LayoutModel",
            "_view_count": null,
            "_view_module": "@jupyter-widgets/base",
            "_view_module_version": "1.2.0",
            "_view_name": "LayoutView",
            "align_content": null,
            "align_items": null,
            "align_self": null,
            "border": null,
            "bottom": null,
            "display": null,
            "flex": null,
            "flex_flow": null,
            "grid_area": null,
            "grid_auto_columns": null,
            "grid_auto_flow": null,
            "grid_auto_rows": null,
            "grid_column": null,
            "grid_gap": null,
            "grid_row": null,
            "grid_template_areas": null,
            "grid_template_columns": null,
            "grid_template_rows": null,
            "height": null,
            "justify_content": null,
            "justify_items": null,
            "left": null,
            "margin": null,
            "max_height": null,
            "max_width": null,
            "min_height": null,
            "min_width": null,
            "object_fit": null,
            "object_position": null,
            "order": null,
            "overflow": null,
            "overflow_x": null,
            "overflow_y": null,
            "padding": null,
            "right": null,
            "top": null,
            "visibility": null,
            "width": null
          }
        },
        "fb2a6e58e74e4a538af8edbf7dbd78e5": {
          "model_module": "@jupyter-widgets/base",
          "model_name": "LayoutModel",
          "model_module_version": "1.2.0",
          "state": {
            "_model_module": "@jupyter-widgets/base",
            "_model_module_version": "1.2.0",
            "_model_name": "LayoutModel",
            "_view_count": null,
            "_view_module": "@jupyter-widgets/base",
            "_view_module_version": "1.2.0",
            "_view_name": "LayoutView",
            "align_content": null,
            "align_items": null,
            "align_self": null,
            "border": null,
            "bottom": null,
            "display": null,
            "flex": null,
            "flex_flow": null,
            "grid_area": null,
            "grid_auto_columns": null,
            "grid_auto_flow": null,
            "grid_auto_rows": null,
            "grid_column": null,
            "grid_gap": null,
            "grid_row": null,
            "grid_template_areas": null,
            "grid_template_columns": null,
            "grid_template_rows": null,
            "height": null,
            "justify_content": null,
            "justify_items": null,
            "left": null,
            "margin": null,
            "max_height": null,
            "max_width": null,
            "min_height": null,
            "min_width": null,
            "object_fit": null,
            "object_position": null,
            "order": null,
            "overflow": null,
            "overflow_x": null,
            "overflow_y": null,
            "padding": null,
            "right": null,
            "top": null,
            "visibility": null,
            "width": null
          }
        },
        "a398e466eb124448bda8f8aa7745c951": {
          "model_module": "@jupyter-widgets/controls",
          "model_name": "DescriptionStyleModel",
          "model_module_version": "1.5.0",
          "state": {
            "_model_module": "@jupyter-widgets/controls",
            "_model_module_version": "1.5.0",
            "_model_name": "DescriptionStyleModel",
            "_view_count": null,
            "_view_module": "@jupyter-widgets/base",
            "_view_module_version": "1.2.0",
            "_view_name": "StyleView",
            "description_width": ""
          }
        },
        "c1320e726d4642ebb19c17357764d2ae": {
          "model_module": "@jupyter-widgets/base",
          "model_name": "LayoutModel",
          "model_module_version": "1.2.0",
          "state": {
            "_model_module": "@jupyter-widgets/base",
            "_model_module_version": "1.2.0",
            "_model_name": "LayoutModel",
            "_view_count": null,
            "_view_module": "@jupyter-widgets/base",
            "_view_module_version": "1.2.0",
            "_view_name": "LayoutView",
            "align_content": null,
            "align_items": null,
            "align_self": null,
            "border": null,
            "bottom": null,
            "display": null,
            "flex": null,
            "flex_flow": null,
            "grid_area": null,
            "grid_auto_columns": null,
            "grid_auto_flow": null,
            "grid_auto_rows": null,
            "grid_column": null,
            "grid_gap": null,
            "grid_row": null,
            "grid_template_areas": null,
            "grid_template_columns": null,
            "grid_template_rows": null,
            "height": null,
            "justify_content": null,
            "justify_items": null,
            "left": null,
            "margin": null,
            "max_height": null,
            "max_width": null,
            "min_height": null,
            "min_width": null,
            "object_fit": null,
            "object_position": null,
            "order": null,
            "overflow": null,
            "overflow_x": null,
            "overflow_y": null,
            "padding": null,
            "right": null,
            "top": null,
            "visibility": null,
            "width": null
          }
        },
        "c4eada5194874476a7d1e8e708c09104": {
          "model_module": "@jupyter-widgets/controls",
          "model_name": "ProgressStyleModel",
          "model_module_version": "1.5.0",
          "state": {
            "_model_module": "@jupyter-widgets/controls",
            "_model_module_version": "1.5.0",
            "_model_name": "ProgressStyleModel",
            "_view_count": null,
            "_view_module": "@jupyter-widgets/base",
            "_view_module_version": "1.2.0",
            "_view_name": "StyleView",
            "bar_color": null,
            "description_width": ""
          }
        },
        "80b0ac71a56b467ba1902d6415a6dd18": {
          "model_module": "@jupyter-widgets/base",
          "model_name": "LayoutModel",
          "model_module_version": "1.2.0",
          "state": {
            "_model_module": "@jupyter-widgets/base",
            "_model_module_version": "1.2.0",
            "_model_name": "LayoutModel",
            "_view_count": null,
            "_view_module": "@jupyter-widgets/base",
            "_view_module_version": "1.2.0",
            "_view_name": "LayoutView",
            "align_content": null,
            "align_items": null,
            "align_self": null,
            "border": null,
            "bottom": null,
            "display": null,
            "flex": null,
            "flex_flow": null,
            "grid_area": null,
            "grid_auto_columns": null,
            "grid_auto_flow": null,
            "grid_auto_rows": null,
            "grid_column": null,
            "grid_gap": null,
            "grid_row": null,
            "grid_template_areas": null,
            "grid_template_columns": null,
            "grid_template_rows": null,
            "height": null,
            "justify_content": null,
            "justify_items": null,
            "left": null,
            "margin": null,
            "max_height": null,
            "max_width": null,
            "min_height": null,
            "min_width": null,
            "object_fit": null,
            "object_position": null,
            "order": null,
            "overflow": null,
            "overflow_x": null,
            "overflow_y": null,
            "padding": null,
            "right": null,
            "top": null,
            "visibility": null,
            "width": null
          }
        },
        "c1819e267d9849f4845d1ff437274be5": {
          "model_module": "@jupyter-widgets/controls",
          "model_name": "DescriptionStyleModel",
          "model_module_version": "1.5.0",
          "state": {
            "_model_module": "@jupyter-widgets/controls",
            "_model_module_version": "1.5.0",
            "_model_name": "DescriptionStyleModel",
            "_view_count": null,
            "_view_module": "@jupyter-widgets/base",
            "_view_module_version": "1.2.0",
            "_view_name": "StyleView",
            "description_width": ""
          }
        }
      }
    }
  },
  "cells": [
    {
      "cell_type": "markdown",
      "metadata": {
        "id": "view-in-github",
        "colab_type": "text"
      },
      "source": [
        "<a href=\"https://colab.research.google.com/github/salsabillaflsft/ABSApublic/blob/main/theinnerworkings.ipynb\" target=\"_parent\"><img src=\"https://colab.research.google.com/assets/colab-badge.svg\" alt=\"Open In Colab\"/></a>"
      ]
    },
    {
      "cell_type": "markdown",
      "source": [
        "# **Transformers - BERT - IndoBERT**"
      ],
      "metadata": {
        "id": "FNMPyl7WOLXx"
      }
    },
    {
      "cell_type": "markdown",
      "source": [
        "## Installation"
      ],
      "metadata": {
        "id": "Yotaa2wobLYy"
      }
    },
    {
      "cell_type": "code",
      "source": [
        "!pip install transformers"
      ],
      "metadata": {
        "colab": {
          "base_uri": "https://localhost:8080/"
        },
        "id": "kq_aTJ6804A8",
        "outputId": "ce1bf8a5-4434-41ac-eb86-ba74da477a15"
      },
      "execution_count": 1,
      "outputs": [
        {
          "output_type": "stream",
          "name": "stdout",
          "text": [
            "Looking in indexes: https://pypi.org/simple, https://us-python.pkg.dev/colab-wheels/public/simple/\n",
            "Collecting transformers\n",
            "  Downloading transformers-4.27.4-py3-none-any.whl (6.8 MB)\n",
            "\u001b[2K     \u001b[90m━━━━━━━━━━━━━━━━━━━━━━━━━━━━━━━━━━━━━━━━\u001b[0m \u001b[32m6.8/6.8 MB\u001b[0m \u001b[31m57.3 MB/s\u001b[0m eta \u001b[36m0:00:00\u001b[0m\n",
            "\u001b[?25hCollecting huggingface-hub<1.0,>=0.11.0\n",
            "  Downloading huggingface_hub-0.13.4-py3-none-any.whl (200 kB)\n",
            "\u001b[2K     \u001b[90m━━━━━━━━━━━━━━━━━━━━━━━━━━━━━━━━━━━━━━━\u001b[0m \u001b[32m200.1/200.1 KB\u001b[0m \u001b[31m3.1 MB/s\u001b[0m eta \u001b[36m0:00:00\u001b[0m\n",
            "\u001b[?25hRequirement already satisfied: packaging>=20.0 in /usr/local/lib/python3.9/dist-packages (from transformers) (23.0)\n",
            "Requirement already satisfied: tqdm>=4.27 in /usr/local/lib/python3.9/dist-packages (from transformers) (4.65.0)\n",
            "Requirement already satisfied: requests in /usr/local/lib/python3.9/dist-packages (from transformers) (2.27.1)\n",
            "Requirement already satisfied: pyyaml>=5.1 in /usr/local/lib/python3.9/dist-packages (from transformers) (6.0)\n",
            "Requirement already satisfied: numpy>=1.17 in /usr/local/lib/python3.9/dist-packages (from transformers) (1.22.4)\n",
            "Collecting tokenizers!=0.11.3,<0.14,>=0.11.1\n",
            "  Downloading tokenizers-0.13.3-cp39-cp39-manylinux_2_17_x86_64.manylinux2014_x86_64.whl (7.8 MB)\n",
            "\u001b[2K     \u001b[90m━━━━━━━━━━━━━━━━━━━━━━━━━━━━━━━━━━━━━━━━\u001b[0m \u001b[32m7.8/7.8 MB\u001b[0m \u001b[31m60.0 MB/s\u001b[0m eta \u001b[36m0:00:00\u001b[0m\n",
            "\u001b[?25hRequirement already satisfied: regex!=2019.12.17 in /usr/local/lib/python3.9/dist-packages (from transformers) (2022.10.31)\n",
            "Requirement already satisfied: filelock in /usr/local/lib/python3.9/dist-packages (from transformers) (3.10.7)\n",
            "Requirement already satisfied: typing-extensions>=3.7.4.3 in /usr/local/lib/python3.9/dist-packages (from huggingface-hub<1.0,>=0.11.0->transformers) (4.5.0)\n",
            "Requirement already satisfied: charset-normalizer~=2.0.0 in /usr/local/lib/python3.9/dist-packages (from requests->transformers) (2.0.12)\n",
            "Requirement already satisfied: urllib3<1.27,>=1.21.1 in /usr/local/lib/python3.9/dist-packages (from requests->transformers) (1.26.15)\n",
            "Requirement already satisfied: idna<4,>=2.5 in /usr/local/lib/python3.9/dist-packages (from requests->transformers) (3.4)\n",
            "Requirement already satisfied: certifi>=2017.4.17 in /usr/local/lib/python3.9/dist-packages (from requests->transformers) (2022.12.7)\n",
            "Installing collected packages: tokenizers, huggingface-hub, transformers\n",
            "Successfully installed huggingface-hub-0.13.4 tokenizers-0.13.3 transformers-4.27.4\n"
          ]
        }
      ]
    },
    {
      "cell_type": "code",
      "source": [
        "import random\n",
        "import numpy as np\n",
        "import pandas as pd\n",
        "import matplotlib.pyplot as plt\n",
        "\n",
        "import torch\n",
        "from torch import optim, nn\n",
        "import torch.nn.functional as F\n",
        "from torch.nn import CrossEntropyLoss, MSELoss\n",
        "from torch.utils.data import Dataset, DataLoader\n",
        "\n",
        "from tqdm import tqdm\n",
        "from transformers import BertTokenizer, BertConfig, BertForPreTraining, BertPreTrainedModel, BertModel\n",
        "\n",
        "import itertools\n",
        "from sklearn.metrics import accuracy_score, f1_score, recall_score, precision_score"
      ],
      "metadata": {
        "id": "oj8Zx0ZfbA45"
      },
      "execution_count": 2,
      "outputs": []
    },
    {
      "cell_type": "markdown",
      "source": [],
      "metadata": {
        "id": "JMDnRDZtCs68"
      }
    },
    {
      "cell_type": "markdown",
      "metadata": {
        "id": "_3fZeDSWA917"
      },
      "source": [
        "## Load Data"
      ]
    },
    {
      "cell_type": "markdown",
      "source": [
        "Dataset "
      ],
      "metadata": {
        "id": "vAA9br4DM8BB"
      }
    },
    {
      "cell_type": "code",
      "execution_count": 3,
      "metadata": {
        "id": "u_Th-A2MA_kX",
        "colab": {
          "base_uri": "https://localhost:8080/"
        },
        "outputId": "c978437e-b53d-4471-9fb7-0e0f6b06bf17"
      },
      "outputs": [
        {
          "output_type": "stream",
          "name": "stdout",
          "text": [
            "Mounted at /content/drive\n",
            "/content/drive/My Drive/TA/Dataset\n"
          ]
        }
      ],
      "source": [
        "from google.colab import drive\n",
        "drive.mount('/content/drive')\n",
        "%cd /content/drive/My Drive/TA/Dataset"
      ]
    },
    {
      "cell_type": "code",
      "source": [
        "dataset_folder_path = '/content/drive/MyDrive//TA/Dataset'"
      ],
      "metadata": {
        "id": "BPISE7QNO0ON"
      },
      "execution_count": 4,
      "outputs": []
    },
    {
      "cell_type": "code",
      "source": [
        "train_dataset_path = dataset_folder_path + '/train_preprocess_70.csv'\n",
        "valid_dataset_path = dataset_folder_path + '/val_preprocess_15.csv'\n",
        "test_dataset_path = dataset_folder_path + '/test_preprocess_15.csv'"
      ],
      "metadata": {
        "id": "_NfiomXKPFGS"
      },
      "execution_count": 5,
      "outputs": []
    },
    {
      "cell_type": "code",
      "source": [
        "#example 11-3-4-5-6\n",
        "data = [\n",
        "    \"Tempatnya asyik utk nyantai bareng teman2 ,  walau gang masuk nya sempit .  Mobil parkir di jalan besar .\",\n",
        "    \"Tempatnya enak ,  menunya enak tp pegawainya kok songong yaa .  Kapok sih ,  ga bakalan ke sana lagi\",\n",
        "    \"Tempat nongkrong jaman maba banget nyaman sih buat nugas\",\n",
        "    \"Agak panas dan tumben penuh padahal siang2 kesana\",\n",
        "    \"Cocok kalo untuk kerja atau nugas\",\n",
        "]\n",
        "\n",
        "# labels = [\"positive,\tneutral,\tneutral,\tneutral,\tneutral,\tpositive\",\n",
        "#           \"negative,\tnegative,\tpositive,\tneutral,\tneutral,\tpositive\",\n",
        "#           \"positive,\tneutral,\tneutral,\tneutral,\tneutral,\tpositive\",\n",
        "#           \"positive,\tneutral,\tneutral,\tneutral,\tnegative,\tneutral\",\n",
        "#           \"positive,\tneutral,\tneutral,\tneutral,\tneutral,\tpositive\",\n",
        "#           ]\n",
        "\n",
        "aspects = ['umum','layanan','menu','harga','fasilitas','suasana']\n",
        "\n",
        "labels = [[2,\t1,\t1,\t1,\t1,\t2],\n",
        "          [0,\t0,\t2,\t1,\t1,\t2],\n",
        "          [2,\t1,\t1,\t1,\t1,\t2],\n",
        "          [2,\t1,\t1,\t1,\t0,\t1],\n",
        "          [2,\t1,\t1,\t1,\t1,\t2],\n",
        "          ]"
      ],
      "metadata": {
        "id": "_yBTKF_qL9Ll"
      },
      "execution_count": 6,
      "outputs": []
    },
    {
      "cell_type": "markdown",
      "source": [
        "## Modules (dataset)"
      ],
      "metadata": {
        "id": "0yKv7pcPGaSs"
      }
    },
    {
      "cell_type": "code",
      "source": [
        "class AspectBasedSentimentAnalysisDataset(Dataset):\n",
        "    # Static constant variable\n",
        "    ASPECT_DOMAIN = ['umum','layanan','menu','harga','fasilitas','suasana']\n",
        "    LABEL2INDEX = {'negative': 0, 'neutral': 1, 'positive': 2}\n",
        "    INDEX2LABEL = {0: 'negative', 1: 'neutral', 2: 'positive'}\n",
        "    NUM_LABELS = [3, 3, 3, 3, 3, 3]\n",
        "    NUM_ASPECTS = 6\n",
        "    \n",
        "    def load_dataset(self, path):\n",
        "        df = pd.read_csv(path)\n",
        "        for aspect in self.ASPECT_DOMAIN:\n",
        "            df[aspect] = df[aspect].apply(lambda sen: self.LABEL2INDEX[sen])\n",
        "        return df\n",
        "    \n",
        "    def __init__(self, dataset_path, tokenizer, no_special_token=False, *args, **kwargs):\n",
        "        self.data = self.load_dataset(dataset_path)\n",
        "        self.tokenizer = tokenizer\n",
        "        self.no_special_token = no_special_token\n",
        "        \n",
        "    def __getitem__(self, index):\n",
        "        data = self.data.loc[index,:]\n",
        "        sentence, labels = data['review_text'], [data[aspect] for aspect in self.ASPECT_DOMAIN]\n",
        "        subwords = self.tokenizer.encode(sentence, add_special_tokens=not self.no_special_token)\n",
        "        return np.array(subwords), np.array(labels), data['review_text']\n",
        "    \n",
        "    def __len__(self):\n",
        "        return len(self.data)\n",
        "\n",
        "class AspectBasedSentimentAnalysisDataLoader(DataLoader):\n",
        "    def __init__(self, dataset, max_seq_len=512, *args, **kwargs):\n",
        "        super(AspectBasedSentimentAnalysisDataLoader, self).__init__(dataset=dataset, *args, **kwargs)\n",
        "        self.num_aspects = dataset.NUM_ASPECTS\n",
        "        self.collate_fn = self._collate_fn\n",
        "        self.max_seq_len = max_seq_len\n",
        "        \n",
        "    def _collate_fn(self, batch):\n",
        "        batch_size = len(batch)\n",
        "        max_seq_len = max(map(lambda x: len(x[0]), batch))\n",
        "        max_seq_len = min(self.max_seq_len, max_seq_len)\n",
        "        \n",
        "        subword_batch = np.zeros((batch_size, max_seq_len), dtype=np.int64)\n",
        "        mask_batch = np.zeros((batch_size, max_seq_len), dtype=np.float32)\n",
        "        label_batch = np.zeros((batch_size, self.num_aspects), dtype=np.int64)\n",
        "\n",
        "        seq_list = []\n",
        "        \n",
        "        for i, (subwords, label, raw_seq) in enumerate(batch):\n",
        "            subwords = subwords[:max_seq_len]\n",
        "            subword_batch[i,:len(subwords)] = subwords\n",
        "            mask_batch[i,:len(subwords)] = 1\n",
        "            label_batch[i,:] = label\n",
        "\n",
        "            seq_list.append(raw_seq)\n",
        "            \n",
        "        return subword_batch, mask_batch, label_batch, seq_list"
      ],
      "metadata": {
        "id": "7h3aGKJrM-zA"
      },
      "execution_count": 7,
      "outputs": []
    },
    {
      "cell_type": "markdown",
      "metadata": {
        "id": "V1MlUQa7FnAt"
      },
      "source": [
        "MultiLabel"
      ]
    },
    {
      "cell_type": "code",
      "source": [
        "class BertForMultiLabelClassification(BertPreTrainedModel):\n",
        "    def __init__(self, config):\n",
        "        super().__init__(config)\n",
        "        self.num_labels = config.num_labels_list\n",
        "\n",
        "        self.bert = BertModel(config)  #bert model layer\n",
        "        self.dropout = nn.Dropout(config.hidden_dropout_prob)  #bert dropout layer\n",
        "        self.classifiers = nn.ModuleList([nn.Linear(config.hidden_size, num_label) for num_label in self.num_labels]) #bert classification layer\n",
        "\n",
        "        self.init_weights()\n",
        "\n",
        "    def forward(\n",
        "        self,\n",
        "        input_ids=None,\n",
        "        subword_to_word_ids=None,\n",
        "        attention_mask=None,\n",
        "        token_type_ids=None,\n",
        "        position_ids=None,\n",
        "        head_mask=None,\n",
        "        inputs_embeds=None,\n",
        "        labels=None,\n",
        "    ):\n",
        "\n",
        "        outputs = self.bert(\n",
        "            input_ids,\n",
        "            attention_mask=attention_mask,\n",
        "            token_type_ids=token_type_ids,\n",
        "            position_ids=position_ids,\n",
        "            head_mask=head_mask,\n",
        "            inputs_embeds=inputs_embeds,\n",
        "        )\n",
        "\n",
        "        sequence_output = self.dropout(outputs[1])\n",
        "        logits = []\n",
        "        for classifier in self.classifiers:\n",
        "            logit = classifier(sequence_output)\n",
        "            logits.append(logit)\n",
        "\n",
        "        outputs = (logits,) + outputs[2:]  # add hidden states and attention if they are here\n",
        "        if labels is not None:\n",
        "            loss_fct = CrossEntropyLoss()\n",
        "            total_loss = 0\n",
        "            for i, (logit, num_label) in enumerate(zip(logits, self.num_labels)):\n",
        "                label = labels[:,i]\n",
        "                loss = loss_fct(logit.view(-1, num_label), label.view(-1))\n",
        "                total_loss += loss\n",
        "            outputs = (total_loss,) + outputs\n",
        "\n",
        "        return outputs  # (loss), scores, (hidden_states), (attentions)"
      ],
      "metadata": {
        "id": "ihkSdo8PcDPj"
      },
      "execution_count": 8,
      "outputs": []
    },
    {
      "cell_type": "markdown",
      "source": [
        "## Load Model, Tokenizer, Config"
      ],
      "metadata": {
        "id": "TkyNlazzbR4w"
      }
    },
    {
      "cell_type": "code",
      "source": [
        "# Load Tokenizer, Config, Model\n",
        "tokenizer = BertTokenizer.from_pretrained('indobenchmark/indobert-base-p1')\n",
        "config = BertConfig.from_pretrained('indobenchmark/indobert-base-p1')\n",
        "\n",
        "config.num_labels = max(AspectBasedSentimentAnalysisDataset.NUM_LABELS)\n",
        "config.num_labels_list = AspectBasedSentimentAnalysisDataset.NUM_LABELS\n",
        "model = BertForMultiLabelClassification.from_pretrained('indobenchmark/indobert-base-p1',config=config)"
      ],
      "metadata": {
        "colab": {
          "base_uri": "https://localhost:8080/",
          "height": 0,
          "referenced_widgets": [
            "bab60fd3fc864defbe9a718929afcb28",
            "51cdb8e58ee548a2a83ef581cba9c383",
            "10402bc138ab49258cb475bfa1e64327",
            "fa052cd98b6c4944b58eaba4b1bde9df",
            "11a69d7dfdbd452ab13675c590dc58b1",
            "5002afb6b04c488d8c657a434c3ad868",
            "a85f1cacc9b9480fbc5022de15d2e6da",
            "02ee2ad744a94ed58ee04e6703c70652",
            "cf0d4102697c4aecb99e507454252e1f",
            "efb3ba5750b64d2399a2a6b1586a2076",
            "14a08eb450624a11abe5a74078606a61",
            "e3867f1181bf4801b168155ecbf7db14",
            "df74ee854a6c419d88a6e2382a427a3d",
            "d0a539b89730408987a82e913d8f12a0",
            "a4b5a47dbc38442e88e3df98d4a29796",
            "04083175e42a44019cf73e84bc951454",
            "5f206eeaf994494f98463cc91e320a09",
            "c5ea7f3ee8a9461099722b5bd7b90abe",
            "cceac6df340045c0b676086cd1385924",
            "e7251ce875de43488eb4439a4ff823c3",
            "54e7ea2bafa145828e6ec8832ea0824b",
            "d9a193746bf54321b7e9697413be404e",
            "cd386139850e4f9c89d349030d7d2308",
            "d83f46a3813344f4b51286de429b8290",
            "f7e51a629bf845ce8b9466d976ae6e92",
            "b5a6d9ae9a6a4bdba02cea73477c4322",
            "f8ef95419f654f16adad65d32b8f9384",
            "2db44b7ca6c74d13813d787502a2e370",
            "b2713a30c38542f49f708e3684406b8b",
            "93e331912ce04ed882b329ff1cf407ad",
            "5d4423f79cb442b2afac7278a0a8730d",
            "4456dca52ce740aaa4fe3722b0ae7a98",
            "b0f8949fec424ce994ccf7862694ed1c",
            "35857b2e54c44a67a69964a972d71d94",
            "878095d6c444416aaee3d23d1630a956",
            "47bd1e3a2088491f8839182bf83a00c6",
            "6a6b81bfb19f434098bfac0fa3b9b1a8",
            "c45d326117fd41dc857042ef21865557",
            "b0fa7d28988043d6a36db4ee3268adb9",
            "0f853cb32e3941f7a4aa0966d9276b67",
            "6799560d63554287a6e767283e1ec4f6",
            "3174c255e8c04d528058fd0689a36ad0",
            "3cfe2e9c379b4597833eb0ee63d49790",
            "9c23fba45c954b218cebc3b9ec737b5e",
            "f51887e701d1447894f9a4c102b9f988",
            "5109dfd5663542e28752cd2b5234ea57",
            "b3e44ee1925a4aafa6acc1fc8bfad20c",
            "048c83e5431c4355a5d1e5740b893635",
            "541d28416f94436086b6aacc6e74cd9a",
            "fb2a6e58e74e4a538af8edbf7dbd78e5",
            "a398e466eb124448bda8f8aa7745c951",
            "c1320e726d4642ebb19c17357764d2ae",
            "c4eada5194874476a7d1e8e708c09104",
            "80b0ac71a56b467ba1902d6415a6dd18",
            "c1819e267d9849f4845d1ff437274be5"
          ]
        },
        "id": "ERqTWnaPbQoL",
        "outputId": "8b58c96d-8a94-4fb3-d011-81ff916e5b80"
      },
      "execution_count": 9,
      "outputs": [
        {
          "output_type": "display_data",
          "data": {
            "text/plain": [
              "Downloading (…)solve/main/vocab.txt:   0%|          | 0.00/229k [00:00<?, ?B/s]"
            ],
            "application/vnd.jupyter.widget-view+json": {
              "version_major": 2,
              "version_minor": 0,
              "model_id": "bab60fd3fc864defbe9a718929afcb28"
            }
          },
          "metadata": {}
        },
        {
          "output_type": "display_data",
          "data": {
            "text/plain": [
              "Downloading (…)cial_tokens_map.json:   0%|          | 0.00/112 [00:00<?, ?B/s]"
            ],
            "application/vnd.jupyter.widget-view+json": {
              "version_major": 2,
              "version_minor": 0,
              "model_id": "e3867f1181bf4801b168155ecbf7db14"
            }
          },
          "metadata": {}
        },
        {
          "output_type": "display_data",
          "data": {
            "text/plain": [
              "Downloading (…)okenizer_config.json:   0%|          | 0.00/2.00 [00:00<?, ?B/s]"
            ],
            "application/vnd.jupyter.widget-view+json": {
              "version_major": 2,
              "version_minor": 0,
              "model_id": "cd386139850e4f9c89d349030d7d2308"
            }
          },
          "metadata": {}
        },
        {
          "output_type": "display_data",
          "data": {
            "text/plain": [
              "Downloading (…)lve/main/config.json:   0%|          | 0.00/1.53k [00:00<?, ?B/s]"
            ],
            "application/vnd.jupyter.widget-view+json": {
              "version_major": 2,
              "version_minor": 0,
              "model_id": "35857b2e54c44a67a69964a972d71d94"
            }
          },
          "metadata": {}
        },
        {
          "output_type": "display_data",
          "data": {
            "text/plain": [
              "Downloading pytorch_model.bin:   0%|          | 0.00/498M [00:00<?, ?B/s]"
            ],
            "application/vnd.jupyter.widget-view+json": {
              "version_major": 2,
              "version_minor": 0,
              "model_id": "f51887e701d1447894f9a4c102b9f988"
            }
          },
          "metadata": {}
        },
        {
          "output_type": "stream",
          "name": "stderr",
          "text": [
            "Some weights of BertForMultiLabelClassification were not initialized from the model checkpoint at indobenchmark/indobert-base-p1 and are newly initialized: ['classifiers.5.bias', 'classifiers.1.weight', 'classifiers.4.bias', 'classifiers.2.weight', 'classifiers.2.bias', 'classifiers.1.bias', 'classifiers.0.bias', 'classifiers.0.weight', 'classifiers.3.bias', 'classifiers.5.weight', 'classifiers.3.weight', 'classifiers.4.weight']\n",
            "You should probably TRAIN this model on a down-stream task to be able to use it for predictions and inference.\n"
          ]
        }
      ]
    },
    {
      "cell_type": "code",
      "source": [
        "print('NUMBER OF LAYERS:', config.num_hidden_layers)\n",
        "\n",
        "print('EMBEDDING SIZE:', config.hidden_size)\n",
        "\n",
        "print('ACTIVATIONS:', config.hidden_act)"
      ],
      "metadata": {
        "colab": {
          "base_uri": "https://localhost:8080/"
        },
        "id": "wnosv-bJR8Ww",
        "outputId": "02451bab-b3c1-467d-f590-321e3e04d377"
      },
      "execution_count": 10,
      "outputs": [
        {
          "output_type": "stream",
          "name": "stdout",
          "text": [
            "NUMBER OF LAYERS: 12\n",
            "EMBEDDING SIZE: 768\n",
            "ACTIVATIONS: gelu\n"
          ]
        }
      ]
    },
    {
      "cell_type": "code",
      "source": [
        "model"
      ],
      "metadata": {
        "colab": {
          "base_uri": "https://localhost:8080/"
        },
        "id": "Q0dZr2USJl6m",
        "outputId": "fa3e2d90-d669-4a8e-ff23-a1e7cf0d1a18"
      },
      "execution_count": 11,
      "outputs": [
        {
          "output_type": "execute_result",
          "data": {
            "text/plain": [
              "BertForMultiLabelClassification(\n",
              "  (bert): BertModel(\n",
              "    (embeddings): BertEmbeddings(\n",
              "      (word_embeddings): Embedding(50000, 768, padding_idx=0)\n",
              "      (position_embeddings): Embedding(512, 768)\n",
              "      (token_type_embeddings): Embedding(2, 768)\n",
              "      (LayerNorm): LayerNorm((768,), eps=1e-12, elementwise_affine=True)\n",
              "      (dropout): Dropout(p=0.1, inplace=False)\n",
              "    )\n",
              "    (encoder): BertEncoder(\n",
              "      (layer): ModuleList(\n",
              "        (0-11): 12 x BertLayer(\n",
              "          (attention): BertAttention(\n",
              "            (self): BertSelfAttention(\n",
              "              (query): Linear(in_features=768, out_features=768, bias=True)\n",
              "              (key): Linear(in_features=768, out_features=768, bias=True)\n",
              "              (value): Linear(in_features=768, out_features=768, bias=True)\n",
              "              (dropout): Dropout(p=0.1, inplace=False)\n",
              "            )\n",
              "            (output): BertSelfOutput(\n",
              "              (dense): Linear(in_features=768, out_features=768, bias=True)\n",
              "              (LayerNorm): LayerNorm((768,), eps=1e-12, elementwise_affine=True)\n",
              "              (dropout): Dropout(p=0.1, inplace=False)\n",
              "            )\n",
              "          )\n",
              "          (intermediate): BertIntermediate(\n",
              "            (dense): Linear(in_features=768, out_features=3072, bias=True)\n",
              "            (intermediate_act_fn): GELUActivation()\n",
              "          )\n",
              "          (output): BertOutput(\n",
              "            (dense): Linear(in_features=3072, out_features=768, bias=True)\n",
              "            (LayerNorm): LayerNorm((768,), eps=1e-12, elementwise_affine=True)\n",
              "            (dropout): Dropout(p=0.1, inplace=False)\n",
              "          )\n",
              "        )\n",
              "      )\n",
              "    )\n",
              "    (pooler): BertPooler(\n",
              "      (dense): Linear(in_features=768, out_features=768, bias=True)\n",
              "      (activation): Tanh()\n",
              "    )\n",
              "  )\n",
              "  (dropout): Dropout(p=0.1, inplace=False)\n",
              "  (classifiers): ModuleList(\n",
              "    (0-5): 6 x Linear(in_features=768, out_features=3, bias=True)\n",
              "  )\n",
              ")"
            ]
          },
          "metadata": {},
          "execution_count": 11
        }
      ]
    },
    {
      "cell_type": "code",
      "source": [
        "train_dataset = AspectBasedSentimentAnalysisDataset(train_dataset_path, tokenizer, lowercase=True)\n",
        "valid_dataset = AspectBasedSentimentAnalysisDataset(valid_dataset_path, tokenizer, lowercase=True)\n",
        "test_dataset = AspectBasedSentimentAnalysisDataset(test_dataset_path, tokenizer, lowercase=True)"
      ],
      "metadata": {
        "id": "XMi0kG0ePP_Y"
      },
      "execution_count": 12,
      "outputs": []
    },
    {
      "cell_type": "code",
      "source": [
        "train_loader = AspectBasedSentimentAnalysisDataLoader(dataset=train_dataset, max_seq_len=512, batch_size=16, num_workers=2, shuffle=True)  \n",
        "valid_loader = AspectBasedSentimentAnalysisDataLoader(dataset=valid_dataset, max_seq_len=512, batch_size=16, num_workers=2, shuffle=False)  \n",
        "test_loader = AspectBasedSentimentAnalysisDataLoader(dataset=test_dataset, max_seq_len=512, batch_size=16, num_workers=2, shuffle=False)"
      ],
      "metadata": {
        "id": "cebzNZKNP0Ib"
      },
      "execution_count": 13,
      "outputs": []
    },
    {
      "cell_type": "markdown",
      "source": [
        "## Pre-Processing - Tokenizer - WordPiece"
      ],
      "metadata": {
        "id": "LMmc8tvuQQUd"
      }
    },
    {
      "cell_type": "markdown",
      "source": [
        "tokenization, token to ids, special tokens, label *encoding*, padding truncating, att masks"
      ],
      "metadata": {
        "id": "RIQKdOFHl7A1"
      }
    },
    {
      "cell_type": "markdown",
      "metadata": {
        "id": "Mviia1-nn-nv"
      },
      "source": [
        "WordPiece tokenization - the inner workings -> [wordpiece inner workings](https://colab.research.google.com/drive/1LYVJDlsFje9DNUvpS1gQybpbN9j7NrHb?usp=sharing)"
      ]
    },
    {
      "cell_type": "code",
      "source": [
        "input_sequences = tokenizer(text=data, add_special_tokens=True, padding=True, truncation=True, return_tensors='pt')\n",
        "input_sequences.update({'labels':torch.tensor(labels)})\n",
        "\n",
        "[print('%s : %s\\n'%(k,v)) for k,v in input_sequences.items()];"
      ],
      "metadata": {
        "colab": {
          "base_uri": "https://localhost:8080/"
        },
        "id": "OJz6v2X6LWNd",
        "outputId": "5f09c268-2c47-43fb-9c94-0209a0c2aa52"
      },
      "execution_count": 99,
      "outputs": [
        {
          "output_type": "stream",
          "name": "stdout",
          "text": [
            "input_ids : tensor([[    2,  7229,  8181,  4302,  1107, 12006,    94,  8074,  1614, 30378,\n",
            "         30468,  1766, 10357,   804,  1107,  7132, 30470,   895,  5222,    26,\n",
            "           795,   421, 30470,     3,     0],\n",
            "        [    2,  7229,  3107, 30468,  1622,    57,  3107,  3478,  3027,    57,\n",
            "          2105, 30052,  2692,  5633, 30470,  1012,   118,  1966, 30468,   525,\n",
            "         10263,    43,  2377,   423,     3],\n",
            "        [    2,   515, 16503,  4881,  6943, 30354,  2174,  2382,  1966,   968,\n",
            "         19287,    22,     3,     0,     0,     0,     0,     0,     0,     0,\n",
            "             0,     0,     0,     0,     0],\n",
            "        [    2,  2839,  1990,    41,  1349,  1771,  1876,  2234,  3346, 30378,\n",
            "         11105,     3,     0,     0,     0,     0,     0,     0,     0,     0,\n",
            "             0,     0,     0,     0,     0],\n",
            "        [    2,  2040,  1686,    90,   494,   158, 19287,    22,     3,     0,\n",
            "             0,     0,     0,     0,     0,     0,     0,     0,     0,     0,\n",
            "             0,     0,     0,     0,     0]])\n",
            "\n",
            "token_type_ids : tensor([[0, 0, 0, 0, 0, 0, 0, 0, 0, 0, 0, 0, 0, 0, 0, 0, 0, 0, 0, 0, 0, 0, 0, 0,\n",
            "         0],\n",
            "        [0, 0, 0, 0, 0, 0, 0, 0, 0, 0, 0, 0, 0, 0, 0, 0, 0, 0, 0, 0, 0, 0, 0, 0,\n",
            "         0],\n",
            "        [0, 0, 0, 0, 0, 0, 0, 0, 0, 0, 0, 0, 0, 0, 0, 0, 0, 0, 0, 0, 0, 0, 0, 0,\n",
            "         0],\n",
            "        [0, 0, 0, 0, 0, 0, 0, 0, 0, 0, 0, 0, 0, 0, 0, 0, 0, 0, 0, 0, 0, 0, 0, 0,\n",
            "         0],\n",
            "        [0, 0, 0, 0, 0, 0, 0, 0, 0, 0, 0, 0, 0, 0, 0, 0, 0, 0, 0, 0, 0, 0, 0, 0,\n",
            "         0]])\n",
            "\n",
            "attention_mask : tensor([[1, 1, 1, 1, 1, 1, 1, 1, 1, 1, 1, 1, 1, 1, 1, 1, 1, 1, 1, 1, 1, 1, 1, 1,\n",
            "         0],\n",
            "        [1, 1, 1, 1, 1, 1, 1, 1, 1, 1, 1, 1, 1, 1, 1, 1, 1, 1, 1, 1, 1, 1, 1, 1,\n",
            "         1],\n",
            "        [1, 1, 1, 1, 1, 1, 1, 1, 1, 1, 1, 1, 1, 0, 0, 0, 0, 0, 0, 0, 0, 0, 0, 0,\n",
            "         0],\n",
            "        [1, 1, 1, 1, 1, 1, 1, 1, 1, 1, 1, 1, 0, 0, 0, 0, 0, 0, 0, 0, 0, 0, 0, 0,\n",
            "         0],\n",
            "        [1, 1, 1, 1, 1, 1, 1, 1, 1, 0, 0, 0, 0, 0, 0, 0, 0, 0, 0, 0, 0, 0, 0, 0,\n",
            "         0]])\n",
            "\n",
            "labels : tensor([[2, 1, 1, 1, 1, 2],\n",
            "        [0, 0, 2, 1, 1, 2],\n",
            "        [2, 1, 1, 1, 1, 2],\n",
            "        [2, 1, 1, 1, 0, 1],\n",
            "        [2, 1, 1, 1, 1, 2]])\n",
            "\n"
          ]
        }
      ]
    },
    {
      "cell_type": "code",
      "source": [
        "[print(tokenizer.decode(example)) for example in input_sequences['input_ids'].numpy()];"
      ],
      "metadata": {
        "colab": {
          "base_uri": "https://localhost:8080/"
        },
        "id": "vtx096ShRjG9",
        "outputId": "94608606-5eab-4c5a-8b5d-e755aab96ed7"
      },
      "execution_count": 100,
      "outputs": [
        {
          "output_type": "stream",
          "name": "stdout",
          "text": [
            "[CLS] tempatnya asyik utk nyantai bareng teman2, walau gang masuk nya sempit. mobil parkir di jalan besar. [SEP] [PAD]\n",
            "[CLS] tempatnya enak, menunya enak tp pegawainya kok songong yaa. kapok sih, ga bakalan ke sana lagi [SEP]\n",
            "[CLS] tempat nongkrong jaman maba banget nyaman sih buat nugas [SEP] [PAD] [PAD] [PAD] [PAD] [PAD] [PAD] [PAD] [PAD] [PAD] [PAD] [PAD] [PAD]\n",
            "[CLS] agak panas dan tumben penuh padahal siang2 kesana [SEP] [PAD] [PAD] [PAD] [PAD] [PAD] [PAD] [PAD] [PAD] [PAD] [PAD] [PAD] [PAD] [PAD]\n",
            "[CLS] cocok kalo untuk kerja atau nugas [SEP] [PAD] [PAD] [PAD] [PAD] [PAD] [PAD] [PAD] [PAD] [PAD] [PAD] [PAD] [PAD] [PAD] [PAD] [PAD] [PAD]\n"
          ]
        }
      ]
    },
    {
      "cell_type": "markdown",
      "source": [
        "### result based on all data"
      ],
      "metadata": {
        "id": "DMU2M-PXLH8X"
      }
    },
    {
      "cell_type": "code",
      "source": [
        "# example on pre-processing based on all data\n",
        "train_dataset[9]"
      ],
      "metadata": {
        "colab": {
          "base_uri": "https://localhost:8080/"
        },
        "id": "coS4v5BnfrgT",
        "outputId": "a9bfcbde-23d5-4632-ed71-1bfd21da549d"
      },
      "execution_count": 101,
      "outputs": [
        {
          "output_type": "execute_result",
          "data": {
            "text/plain": [
              "(array([    2,  7229,  8181,  4302,  1107, 12006,    94,  8074,  1614,\n",
              "        30378, 30468,  1766, 10357,   804,  1107,  7132, 30470,   895,\n",
              "         5222,    26,   795,   421, 30470,     3]),\n",
              " array([2, 1, 1, 1, 1, 2]),\n",
              " 'Tempatnya asyik utk nyantai bareng teman2 ,  walau gang masuk nya sempit .  Mobil parkir di jalan besar .')"
            ]
          },
          "metadata": {},
          "execution_count": 101
        }
      ]
    },
    {
      "cell_type": "code",
      "source": [
        "# Get an iterator for the train_loader\n",
        "train_iter = iter(train_loader)\n",
        "\n",
        "# Get the first batch of data\n",
        "batch_data = next(train_iter)"
      ],
      "metadata": {
        "id": "6Gc6-brIl8cA"
      },
      "execution_count": 102,
      "outputs": []
    },
    {
      "cell_type": "code",
      "source": [
        "batch_data # this shows the token to ids(padded to same length, special tokens added), attention masks, label(encoded), the data)"
      ],
      "metadata": {
        "colab": {
          "base_uri": "https://localhost:8080/"
        },
        "id": "gySKF7t5J6hm",
        "outputId": "67dbae7a-3638-4bb8-c742-aa0da8a14b5e"
      },
      "execution_count": 103,
      "outputs": [
        {
          "output_type": "execute_result",
          "data": {
            "text/plain": [
              "(array([[    2,  2382,   684, ...,   811, 30457,     3],\n",
              "        [    2,  4824, 11123, ...,     0,     0,     0],\n",
              "        [    2,  1990,  2174, ...,     0,     0,     0],\n",
              "        ...,\n",
              "        [    2,  2382, 11277, ...,     0,     0,     0],\n",
              "        [    2,   515, 20883, ...,     0,     0,     0],\n",
              "        [    2,  2476,    41, ...,     0,     0,     0]]),\n",
              " array([[1., 1., 1., ..., 1., 1., 1.],\n",
              "        [1., 1., 1., ..., 0., 0., 0.],\n",
              "        [1., 1., 1., ..., 0., 0., 0.],\n",
              "        ...,\n",
              "        [1., 1., 1., ..., 0., 0., 0.],\n",
              "        [1., 1., 1., ..., 0., 0., 0.],\n",
              "        [1., 1., 1., ..., 0., 0., 0.]], dtype=float32),\n",
              " array([[2, 2, 1, 1, 0, 2],\n",
              "        [2, 2, 2, 1, 1, 1],\n",
              "        [0, 1, 1, 1, 0, 0],\n",
              "        [1, 1, 1, 1, 1, 0],\n",
              "        [2, 1, 1, 1, 1, 1],\n",
              "        [2, 1, 2, 1, 1, 1],\n",
              "        [2, 1, 2, 1, 1, 2],\n",
              "        [2, 1, 1, 1, 1, 2],\n",
              "        [2, 1, 1, 1, 1, 2],\n",
              "        [2, 1, 1, 0, 0, 2],\n",
              "        [1, 0, 1, 1, 0, 2],\n",
              "        [2, 1, 1, 1, 1, 2],\n",
              "        [2, 1, 2, 1, 0, 2],\n",
              "        [2, 1, 1, 1, 1, 2],\n",
              "        [2, 1, 1, 1, 0, 2],\n",
              "        [2, 1, 1, 1, 1, 2]]),\n",
              " ['Nyaman sekali di sini !  Barista dan pelayannya ramah .  Tempatnya bersih dan asri .  Saya lihat logo eplus yang cukup besar di tamannya; tangan yang memegang bibit tanaman .  Dari logo tersebut saya punya sedikit saran untuk lebih menggalakkan zero waste atau gaya hidup minim sampah dengan mengurangi penggunaan plastik pada sendok ,  karena saya kira itu gak perlu sebab sendok akan langsung digunakan (saya pesan Affogato dan sendok kecilnya diberi plastik) .  Kalau bisa juga bekerja sama dengan bulk store di Jogja tentang hal ini .  Sukses selalu !',\n",
              "  'Baristanya ramah banget ,  kopinya juga enak ,  cocok buat yang mau ngerjain tugas',\n",
              "  'panas bangetttttt indornya ,  ac nya rusak po mas/mbak ?  hadeh ga nyaman blas',\n",
              "  'LUMAYAN BAGUS SICH .  .  .  .  TAPI TEMPATNYA KL UNTUK ULTAH .  .  .  BANYAK ORANG .  .  .  . KURANG NYAMAN .  .  .  KR RUANG BAWAH TERPETAK PETAK .  .  . GAK LOSE .  .  .  .  YG LANTAI ATAS .  .  .  .  CUMA MUAT  SEDIKIT  ORANG',\n",
              "  'salah satu tempat terbaik buat nugas di daerah selatan',\n",
              "  'Selain kopi ada macam-macam teh artisan .  Mulai dari peppermint ,  ear grey ,  dan lainnya .  Untuk teh harga Rp 35 ribu per teko per orang .',\n",
              "  'Tempatnya enak ,  luas ,  asiklah buat nongki .  freddo extra sweetnya favorite sih .',\n",
              "  'Nyaman tempatnya',\n",
              "  'Suka banget bagian belakang banyak pohon mangga .  .  .  , sejuk .  .  , segar .  .  .  ,',\n",
              "  'Tempatnya asik ,  semi outdoor tpi gak kerasa panas ,  kipas angin sangat ganggu suaranya ,  harga minuman lumayan mahal .',\n",
              "  'enak si buat nugas ,  sayangnya pas kesana wifi nya lemot .  anyway saran aja mbak mas kalo lagi ngomongin masalah internal secara private aja ,  customer jangan sampe denger ,  kurang etis aja gitu .',\n",
              "  'Tempatnya asik buat nongki bareng temen .  Ada live music juga + suasanya di pinggir sawah bikin nyaman .',\n",
              "  'Kopinya enak ,  ambience lumayan .  Di dalam kalau buat nongkrong sambil kerja cukup nyaman .  Sayangnya ,  tempat duduk luar ruangan yang bersofa ,  pinggiran atap terlalu pendek .  Sehingga kalau hujan ,  pantulan air membasahi ubin ,  meja dan sofa .',\n",
              "  'Nyaman pren',\n",
              "  'Tempat cozy ,  enak buat ngobrol atau sekedar menyelesaikan tugas kuliah dan pekerjaan .  Tp sayang tempat parkir mobil sangat terbatas ,  padahal tempat nongkrong banyak .',\n",
              "  'Bersih dan nyaman'])"
            ]
          },
          "metadata": {},
          "execution_count": 103
        }
      ]
    },
    {
      "cell_type": "markdown",
      "source": [
        "## BERT Embedding: Token - Segment - Position"
      ],
      "metadata": {
        "id": "UV3-FhLbT7Dv"
      }
    },
    {
      "cell_type": "code",
      "source": [
        "# class Embeddings(nn.Module):\n",
        "#     def __init__(self, d_model, vocab):\n",
        "#         super(Embeddings, self).__init__()\n",
        "#         self.lut = nn.Embedding(vocab, d_model)\n",
        "#         self.d_model = d_model\n",
        "\n",
        "#     def forward(self, x):\n",
        "#         return self.lut(x) * math.sqrt(self.d_model)"
      ],
      "metadata": {
        "id": "XagBlf4p2a-0"
      },
      "execution_count": 104,
      "outputs": []
    },
    {
      "cell_type": "markdown",
      "source": [
        "### PE"
      ],
      "metadata": {
        "id": "_NDKn_w4V2WP"
      }
    },
    {
      "cell_type": "markdown",
      "source": [
        "positional encoding/embedding\n",
        "- transformer takes all the embedding at once\n",
        "- filling with the words order will distort the infos\n",
        "- added normalization will confuse the model\n",
        "\n",
        "PE -> used frequencies to capture data infos\n"
      ],
      "metadata": {
        "id": "dPcqnn8aUelO"
      }
    },
    {
      "cell_type": "markdown",
      "source": [
        "PE(𝑝𝑜𝑠,2𝑖)=𝑠𝑖𝑛(𝑝𝑜𝑠/(10000 x 2𝑖/𝑑𝑚𝑜𝑑𝑒𝑙))\n",
        " \n",
        "PE(𝑝𝑜𝑠,2𝑖+1)=𝑐𝑜𝑠(𝑝𝑜𝑠/(10000 x 2𝑖/𝑑𝑚𝑜𝑑𝑒𝑙))\n",
        "\n",
        "pos = position of the word (max sequence length = 512)(in this, length of tokens = 25)\n",
        "\n",
        "i = indices, dimensions of the embedding (768)\n",
        "\n",
        "dmodel = dimension/size of the embedding \n",
        "(BERT embedding size -> 768) \n",
        "\n",
        "with this formulas/calculation, each word with diff positions will have different position embeddings values\n"
      ],
      "metadata": {
        "id": "I5k6irEcVvtp"
      }
    },
    {
      "cell_type": "code",
      "source": [
        "# class PositionalEncoding(nn.Module):\n",
        "#     \"Implement the PE function.\"\n",
        "\n",
        "#     def __init__(self, d_model, dropout, max_len=5000):\n",
        "#         super(PositionalEncoding, self).__init__()\n",
        "#         self.dropout = nn.Dropout(p=dropout)\n",
        "\n",
        "#         # Compute the positional encodings once in log space.\n",
        "#         pe = torch.zeros(max_len, d_model)\n",
        "#         position = torch.arange(0, max_len).unsqueeze(1)\n",
        "#         div_term = torch.exp(\n",
        "#             torch.arange(0, d_model, 2) * -(math.log(10000.0) / d_model)\n",
        "#         )\n",
        "#         pe[:, 0::2] = torch.sin(position * div_term)\n",
        "#         pe[:, 1::2] = torch.cos(position * div_term)\n",
        "#         pe = pe.unsqueeze(0)\n",
        "#         self.register_buffer(\"pe\", pe)\n",
        "\n",
        "#     def forward(self, x):\n",
        "#         x = x + self.pe[:, : x.size(1)].requires_grad_(False)\n",
        "#         return self.dropout(x)"
      ],
      "metadata": {
        "id": "AtaFF72i2bcY"
      },
      "execution_count": 105,
      "outputs": []
    },
    {
      "cell_type": "code",
      "source": [
        "# def show_example(fn, args=[]):\n",
        "#     if __name__ == \"__main__\":\n",
        "#         return fn(*args)\n",
        "\n",
        "# def example_positional():\n",
        "#     pe = PositionalEncoding(20, 0)\n",
        "#     y = pe.forward(torch.zeros(1, 100, 20))\n",
        "\n",
        "#     data = pd.concat(\n",
        "#         [\n",
        "#             pd.DataFrame(\n",
        "#                 {\n",
        "#                     \"embedding\": y[0, :, dim],\n",
        "#                     \"dimension\": dim,\n",
        "#                     \"position\": list(range(100)),\n",
        "#                 }\n",
        "#             )\n",
        "#             for dim in [4, 5, 6, 7]\n",
        "#         ]\n",
        "#     )\n",
        "\n",
        "#     return (\n",
        "#         alt.Chart(data)\n",
        "#         .mark_line()\n",
        "#         .properties(width=800)\n",
        "#         .encode(x=\"position\", y=\"embedding\", color=\"dimension:N\")\n",
        "#         .interactive()\n",
        "#     )\n",
        "\n",
        "\n",
        "# show_example(example_positional)"
      ],
      "metadata": {
        "id": "BG-VavEX2mMa"
      },
      "execution_count": 106,
      "outputs": []
    },
    {
      "cell_type": "code",
      "source": [
        "# #for pos embedding visualizations, include pos encoding formulas\n",
        "# import numpy as np\n",
        "# import matplotlib.pyplot as plt\n",
        "# import seaborn as sns\n",
        "\n",
        "# def pos_visualize(position_embeddings):\n",
        "#     # Extract the shape of the position embeddings.\n",
        "#     _, pos, d_model = position_embeddings.shape #[1,25,78]\n",
        "    \n",
        "#     even_i = np.arange(0, d_model, 2, dtype='int')\n",
        "#     odd_i = np.arange(1, d_model, 2, dtype='int')\n",
        "#     pe_1 = []\n",
        "#     pe_2 = []\n",
        "\n",
        "#     for _pos in range(pos):\n",
        "#         pe_even = np.sin(_pos / np.power(10000, (2 * even_i / d_model)))\n",
        "#         pe_odd = np.cos(_pos / np.power(10000, (2 * odd_i / d_model)))\n",
        "#         pe_1.append(np.insert(pe_even, list(range(1, len(pe_odd) + 1)), pe_odd))\n",
        "#         pe_2.append(np.concatenate([pe_even, pe_odd]))\n",
        "\n",
        "#     # Create heatmaps to visualize the positional embeddings.\n",
        "#     plt.figure(figsize=(10, 5))\n",
        "#     plt.subplot(1, 2, 1)\n",
        "#     sns.heatmap(pe_1, cmap='GnBu')\n",
        "#     plt.title('Sine Positional Embeddings')\n",
        "#     plt.xlabel('Embedding Dimension')\n",
        "#     plt.ylabel('Position')\n",
        "#     plt.subplot(1, 2, 2)\n",
        "#     sns.heatmap(pe_2, cmap='GnBu')\n",
        "#     plt.title('Cosine Positional Embeddings')\n",
        "#     plt.xlabel('Embedding Dimension')\n",
        "#     plt.ylabel('Position')\n",
        "#     plt.tight_layout()\n",
        "#     plt.show()"
      ],
      "metadata": {
        "id": "TzCjrDxAnyTv"
      },
      "execution_count": 107,
      "outputs": []
    },
    {
      "cell_type": "code",
      "source": [
        "import numpy as np\n",
        "import matplotlib.pyplot as plt\n",
        "import seaborn as sns\n",
        "\n",
        "def pos_visualize(position_embeddings):\n",
        "    # Extract the shape of the position embeddings.\n",
        "    _, pos, d_model = position_embeddings.shape \n",
        "    \n",
        "    # Compute the positional encodings.\n",
        "    pe = np.zeros((pos, d_model))\n",
        "    for pos_idx in range(pos):\n",
        "        for i in range(0, d_model):\n",
        "            if i % 2 == 0:\n",
        "                pe[pos_idx, i] = np.sin(pos_idx / (10000 ** (i / d_model)))\n",
        "            else:\n",
        "                pe[pos_idx, i] = np.cos(pos_idx / (10000 ** ((i-1) / d_model)))\n",
        "    \n",
        "    # Plot the positional encodings.\n",
        "    plt.figure(figsize=(10, 5))\n",
        "    sns.heatmap(pe, cmap='GnBu')\n",
        "    plt.title('Positional Embeddings')\n",
        "    plt.xlabel('Embedding Dimension')\n",
        "    plt.ylabel('Position')\n",
        "    plt.tight_layout()\n",
        "    plt.show()"
      ],
      "metadata": {
        "id": "kSc21_npxCrD"
      },
      "execution_count": 108,
      "outputs": []
    },
    {
      "cell_type": "markdown",
      "source": [
        "### Results"
      ],
      "metadata": {
        "id": "g6vHYV3jrxLx"
      }
    },
    {
      "cell_type": "code",
      "source": [
        "class BertEmbeddings(torch.nn.Module):\n",
        "    \"\"\"Construct the embeddings from word, position and token_type embeddings.\"\"\"\n",
        "\n",
        "    def __init__(self, config):\n",
        "        super().__init__()\n",
        "        self.word_embeddings = torch.nn.Embedding(config.vocab_size, config.hidden_size, padding_idx=config.pad_token_id)\n",
        "        self.position_embeddings = torch.nn.Embedding(config.max_position_embeddings, config.hidden_size)\n",
        "        self.token_type_embeddings = torch.nn.Embedding(config.type_vocab_size, config.hidden_size)\n",
        "\n",
        "        # self.LayerNorm is not snake-cased to stick with TensorFlow model variable name and be able to load any TensorFlow checkpoint file\n",
        "        self.LayerNorm = torch.nn.LayerNorm(config.hidden_size, eps=config.layer_norm_eps)\n",
        "        self.dropout = torch.nn.Dropout(config.hidden_dropout_prob)\n",
        "\n",
        "        # position_ids (1, len position emb) is contiguous in memory and exported when serialized\n",
        "        self.register_buffer(\"position_ids\", torch.arange(config.max_position_embeddings).expand((1, -1)))\n",
        "        self.position_embedding_type = getattr(config, \"position_embedding_type\", \"absolute\")\n",
        "\n",
        "    def forward(\n",
        "        self, input_ids=None, token_type_ids=None, position_ids=None, inputs_embeds=None, past_key_values_length=0\n",
        "    ):\n",
        "        if input_ids is not None:\n",
        "            input_shape = input_ids.size()\n",
        "        else:\n",
        "            input_shape = inputs_embeds.size()[:-1]\n",
        "\n",
        "        seq_length = input_shape[1]\n",
        "\n",
        "        if position_ids is None:\n",
        "            position_ids = self.position_ids[:, past_key_values_length : seq_length + past_key_values_length]\n",
        "\n",
        "        print('Created Tokens Positions IDs:\\n', position_ids)        \n",
        "\n",
        "        if token_type_ids is None:\n",
        "            token_type_ids = torch.zeros(input_shape, dtype=torch.long, device=self.position_ids.device)\n",
        "\n",
        "        if inputs_embeds is None:\n",
        "            inputs_embeds = self.word_embeddings(input_ids)\n",
        "        token_type_embeddings = self.token_type_embeddings(token_type_ids)\n",
        "\n",
        "        # Inputs IDS\n",
        "        print('\\nTokens IDs shape:\\n', input_ids.shape)\n",
        "        print('\\nTokens IDs:\\n', input_ids)\n",
        "        # Segment Embedding\n",
        "        print('\\nTokens Type IDs shape:\\n', token_type_ids.shape)\n",
        "        print('\\nTokens Type IDs / Segments:\\n', token_type_ids)\n",
        "        # Token Embedding\n",
        "        print('\\nWord Embeddings shape:\\n', inputs_embeds.shape)\n",
        "        print('\\nWord Embeddings #1:\\n', inputs_embeds)\n",
        "\n",
        "\n",
        "        embeddings = inputs_embeds + token_type_embeddings\n",
        "        if self.position_embedding_type == \"absolute\":\n",
        "            position_embeddings = self.position_embeddings(position_ids)\n",
        "\n",
        "            # Position Embedding\n",
        "            print('\\nPosition Embeddings:\\n', position_embeddings.shape)\n",
        "            print('\\nPosition Embeddings:\\n', position_embeddings)\n",
        "            embeddings += position_embeddings\n",
        "            pos_visualize(position_embeddings)\n",
        "\n",
        "        print('\\nToken Types Embeddings:\\n', token_type_embeddings.shape)\n",
        "        print('\\nToken Types Embeddings:\\n', token_type_embeddings)\n",
        "        \n",
        "        print('\\nSum Up All Embeddings:\\n', embeddings.shape)\n",
        "        print('\\nResult:\\n', embeddings)\n",
        "\n",
        "        embeddings = self.LayerNorm(embeddings)\n",
        "\n",
        "        print('\\nEmbeddings Layer Normalization:\\n', embeddings.shape)\n",
        "\n",
        "        embeddings = self.dropout(embeddings)\n",
        "\n",
        "        print('\\nEmbeddings Dropout Layer:\\n', embeddings.shape)\n",
        "        \n",
        "        return embeddings\n",
        "\n",
        "\n",
        "# Create Bert embedding layer.\n",
        "bert_embeddings_block = BertEmbeddings(config)\n",
        "\n",
        "# Perform a forward pass.\n",
        "embedding_output = bert_embeddings_block.forward(input_ids=input_sequences['input_ids'], token_type_ids=input_sequences['token_type_ids'])"
      ],
      "metadata": {
        "colab": {
          "base_uri": "https://localhost:8080/",
          "height": 1000
        },
        "id": "DCb-87Cqnq1N",
        "outputId": "62c7128a-b5ca-4d19-ca66-4c682213e4f0"
      },
      "execution_count": 109,
      "outputs": [
        {
          "output_type": "stream",
          "name": "stdout",
          "text": [
            "Created Tokens Positions IDs:\n",
            " tensor([[ 0,  1,  2,  3,  4,  5,  6,  7,  8,  9, 10, 11, 12, 13, 14, 15, 16, 17,\n",
            "         18, 19, 20, 21, 22, 23, 24]])\n",
            "\n",
            "Tokens IDs shape:\n",
            " torch.Size([5, 25])\n",
            "\n",
            "Tokens IDs:\n",
            " tensor([[    2,  7229,  8181,  4302,  1107, 12006,    94,  8074,  1614, 30378,\n",
            "         30468,  1766, 10357,   804,  1107,  7132, 30470,   895,  5222,    26,\n",
            "           795,   421, 30470,     3,     0],\n",
            "        [    2,  7229,  3107, 30468,  1622,    57,  3107,  3478,  3027,    57,\n",
            "          2105, 30052,  2692,  5633, 30470,  1012,   118,  1966, 30468,   525,\n",
            "         10263,    43,  2377,   423,     3],\n",
            "        [    2,   515, 16503,  4881,  6943, 30354,  2174,  2382,  1966,   968,\n",
            "         19287,    22,     3,     0,     0,     0,     0,     0,     0,     0,\n",
            "             0,     0,     0,     0,     0],\n",
            "        [    2,  2839,  1990,    41,  1349,  1771,  1876,  2234,  3346, 30378,\n",
            "         11105,     3,     0,     0,     0,     0,     0,     0,     0,     0,\n",
            "             0,     0,     0,     0,     0],\n",
            "        [    2,  2040,  1686,    90,   494,   158, 19287,    22,     3,     0,\n",
            "             0,     0,     0,     0,     0,     0,     0,     0,     0,     0,\n",
            "             0,     0,     0,     0,     0]])\n",
            "\n",
            "Tokens Type IDs shape:\n",
            " torch.Size([5, 25])\n",
            "\n",
            "Tokens Type IDs / Segments:\n",
            " tensor([[0, 0, 0, 0, 0, 0, 0, 0, 0, 0, 0, 0, 0, 0, 0, 0, 0, 0, 0, 0, 0, 0, 0, 0,\n",
            "         0],\n",
            "        [0, 0, 0, 0, 0, 0, 0, 0, 0, 0, 0, 0, 0, 0, 0, 0, 0, 0, 0, 0, 0, 0, 0, 0,\n",
            "         0],\n",
            "        [0, 0, 0, 0, 0, 0, 0, 0, 0, 0, 0, 0, 0, 0, 0, 0, 0, 0, 0, 0, 0, 0, 0, 0,\n",
            "         0],\n",
            "        [0, 0, 0, 0, 0, 0, 0, 0, 0, 0, 0, 0, 0, 0, 0, 0, 0, 0, 0, 0, 0, 0, 0, 0,\n",
            "         0],\n",
            "        [0, 0, 0, 0, 0, 0, 0, 0, 0, 0, 0, 0, 0, 0, 0, 0, 0, 0, 0, 0, 0, 0, 0, 0,\n",
            "         0]])\n",
            "\n",
            "Word Embeddings shape:\n",
            " torch.Size([5, 25, 768])\n",
            "\n",
            "Word Embeddings #1:\n",
            " tensor([[[ 2.1118,  2.1379,  0.4645,  ..., -1.8086,  0.6945,  0.2628],\n",
            "         [ 0.1313, -0.7098,  2.0545,  ..., -0.6338,  0.4735,  0.4864],\n",
            "         [-1.1262,  0.1951, -0.3489,  ...,  1.9471, -0.5629,  1.0510],\n",
            "         ...,\n",
            "         [-0.8593, -1.9890, -0.3687,  ..., -1.7771,  0.4343, -0.7125],\n",
            "         [-0.4156, -0.9084,  0.8120,  ...,  0.4023,  0.1333,  1.3065],\n",
            "         [ 0.0000,  0.0000,  0.0000,  ...,  0.0000,  0.0000,  0.0000]],\n",
            "\n",
            "        [[ 2.1118,  2.1379,  0.4645,  ..., -1.8086,  0.6945,  0.2628],\n",
            "         [ 0.1313, -0.7098,  2.0545,  ..., -0.6338,  0.4735,  0.4864],\n",
            "         [ 0.0732, -0.5012, -0.1753,  ..., -0.6200,  0.5305, -0.8900],\n",
            "         ...,\n",
            "         [-0.2964,  1.6360,  1.0127,  ..., -0.2076, -2.9149, -0.2121],\n",
            "         [ 0.1731,  0.0899, -1.3722,  ..., -0.6832, -0.0372,  1.0237],\n",
            "         [-0.4156, -0.9084,  0.8120,  ...,  0.4023,  0.1333,  1.3065]],\n",
            "\n",
            "        [[ 2.1118,  2.1379,  0.4645,  ..., -1.8086,  0.6945,  0.2628],\n",
            "         [ 0.2356,  1.2829, -0.1273,  ..., -0.3670, -0.2481, -0.3852],\n",
            "         [-0.6086, -0.1787,  0.0518,  ..., -0.3210,  0.3184,  0.1499],\n",
            "         ...,\n",
            "         [ 0.0000,  0.0000,  0.0000,  ...,  0.0000,  0.0000,  0.0000],\n",
            "         [ 0.0000,  0.0000,  0.0000,  ...,  0.0000,  0.0000,  0.0000],\n",
            "         [ 0.0000,  0.0000,  0.0000,  ...,  0.0000,  0.0000,  0.0000]],\n",
            "\n",
            "        [[ 2.1118,  2.1379,  0.4645,  ..., -1.8086,  0.6945,  0.2628],\n",
            "         [-0.3805,  0.4079, -0.0138,  ..., -1.5511, -1.1358,  1.1627],\n",
            "         [ 1.3492,  1.8872,  0.3474,  ...,  0.7094,  0.5346, -0.2374],\n",
            "         ...,\n",
            "         [ 0.0000,  0.0000,  0.0000,  ...,  0.0000,  0.0000,  0.0000],\n",
            "         [ 0.0000,  0.0000,  0.0000,  ...,  0.0000,  0.0000,  0.0000],\n",
            "         [ 0.0000,  0.0000,  0.0000,  ...,  0.0000,  0.0000,  0.0000]],\n",
            "\n",
            "        [[ 2.1118,  2.1379,  0.4645,  ..., -1.8086,  0.6945,  0.2628],\n",
            "         [ 0.0126, -1.1464,  0.2600,  ...,  1.0805, -1.5230,  1.5502],\n",
            "         [-0.3662,  0.0179,  0.0065,  ..., -1.7692,  0.2387, -1.2305],\n",
            "         ...,\n",
            "         [ 0.0000,  0.0000,  0.0000,  ...,  0.0000,  0.0000,  0.0000],\n",
            "         [ 0.0000,  0.0000,  0.0000,  ...,  0.0000,  0.0000,  0.0000],\n",
            "         [ 0.0000,  0.0000,  0.0000,  ...,  0.0000,  0.0000,  0.0000]]],\n",
            "       grad_fn=<EmbeddingBackward0>)\n",
            "\n",
            "Position Embeddings:\n",
            " torch.Size([1, 25, 768])\n",
            "\n",
            "Position Embeddings:\n",
            " tensor([[[ 0.8081, -0.4435,  2.2547,  ..., -1.7439,  1.1424,  1.4467],\n",
            "         [ 0.1266,  0.5552, -0.2638,  ..., -0.9209,  0.0362,  0.1008],\n",
            "         [-0.2209, -0.2175, -1.0138,  ...,  0.5790, -0.4358, -1.2084],\n",
            "         ...,\n",
            "         [-0.2482, -0.7706, -1.4349,  ...,  0.4961,  0.7275,  1.0305],\n",
            "         [ 1.0454, -0.9921, -2.5377,  ...,  0.3238,  1.5080,  0.0561],\n",
            "         [-1.4154, -0.4025,  0.8756,  ...,  0.0116,  1.5883,  0.0904]]],\n",
            "       grad_fn=<EmbeddingBackward0>)\n"
          ]
        },
        {
          "output_type": "display_data",
          "data": {
            "text/plain": [
              "<Figure size 1000x500 with 2 Axes>"
            ],
            "image/png": "[encoded data removed]"
          },
          "metadata": {}
        },
        {
          "output_type": "stream",
          "name": "stdout",
          "text": [
            "\n",
            "Token Types Embeddings:\n",
            " torch.Size([5, 25, 768])\n",
            "\n",
            "Token Types Embeddings:\n",
            " tensor([[[-0.2710,  0.2428, -0.2784,  ...,  1.1025,  0.7930,  1.3758],\n",
            "         [-0.2710,  0.2428, -0.2784,  ...,  1.1025,  0.7930,  1.3758],\n",
            "         [-0.2710,  0.2428, -0.2784,  ...,  1.1025,  0.7930,  1.3758],\n",
            "         ...,\n",
            "         [-0.2710,  0.2428, -0.2784,  ...,  1.1025,  0.7930,  1.3758],\n",
            "         [-0.2710,  0.2428, -0.2784,  ...,  1.1025,  0.7930,  1.3758],\n",
            "         [-0.2710,  0.2428, -0.2784,  ...,  1.1025,  0.7930,  1.3758]],\n",
            "\n",
            "        [[-0.2710,  0.2428, -0.2784,  ...,  1.1025,  0.7930,  1.3758],\n",
            "         [-0.2710,  0.2428, -0.2784,  ...,  1.1025,  0.7930,  1.3758],\n",
            "         [-0.2710,  0.2428, -0.2784,  ...,  1.1025,  0.7930,  1.3758],\n",
            "         ...,\n",
            "         [-0.2710,  0.2428, -0.2784,  ...,  1.1025,  0.7930,  1.3758],\n",
            "         [-0.2710,  0.2428, -0.2784,  ...,  1.1025,  0.7930,  1.3758],\n",
            "         [-0.2710,  0.2428, -0.2784,  ...,  1.1025,  0.7930,  1.3758]],\n",
            "\n",
            "        [[-0.2710,  0.2428, -0.2784,  ...,  1.1025,  0.7930,  1.3758],\n",
            "         [-0.2710,  0.2428, -0.2784,  ...,  1.1025,  0.7930,  1.3758],\n",
            "         [-0.2710,  0.2428, -0.2784,  ...,  1.1025,  0.7930,  1.3758],\n",
            "         ...,\n",
            "         [-0.2710,  0.2428, -0.2784,  ...,  1.1025,  0.7930,  1.3758],\n",
            "         [-0.2710,  0.2428, -0.2784,  ...,  1.1025,  0.7930,  1.3758],\n",
            "         [-0.2710,  0.2428, -0.2784,  ...,  1.1025,  0.7930,  1.3758]],\n",
            "\n",
            "        [[-0.2710,  0.2428, -0.2784,  ...,  1.1025,  0.7930,  1.3758],\n",
            "         [-0.2710,  0.2428, -0.2784,  ...,  1.1025,  0.7930,  1.3758],\n",
            "         [-0.2710,  0.2428, -0.2784,  ...,  1.1025,  0.7930,  1.3758],\n",
            "         ...,\n",
            "         [-0.2710,  0.2428, -0.2784,  ...,  1.1025,  0.7930,  1.3758],\n",
            "         [-0.2710,  0.2428, -0.2784,  ...,  1.1025,  0.7930,  1.3758],\n",
            "         [-0.2710,  0.2428, -0.2784,  ...,  1.1025,  0.7930,  1.3758]],\n",
            "\n",
            "        [[-0.2710,  0.2428, -0.2784,  ...,  1.1025,  0.7930,  1.3758],\n",
            "         [-0.2710,  0.2428, -0.2784,  ...,  1.1025,  0.7930,  1.3758],\n",
            "         [-0.2710,  0.2428, -0.2784,  ...,  1.1025,  0.7930,  1.3758],\n",
            "         ...,\n",
            "         [-0.2710,  0.2428, -0.2784,  ...,  1.1025,  0.7930,  1.3758],\n",
            "         [-0.2710,  0.2428, -0.2784,  ...,  1.1025,  0.7930,  1.3758],\n",
            "         [-0.2710,  0.2428, -0.2784,  ...,  1.1025,  0.7930,  1.3758]]],\n",
            "       grad_fn=<EmbeddingBackward0>)\n",
            "\n",
            "Sum Up All Embeddings:\n",
            " torch.Size([5, 25, 768])\n",
            "\n",
            "Result:\n",
            " tensor([[[ 2.6489,  1.9371,  2.4407,  ..., -2.4500,  2.6299,  3.0853],\n",
            "         [-0.0131,  0.0881,  1.5123,  ..., -0.4522,  1.3028,  1.9630],\n",
            "         [-1.6180,  0.2204, -1.6412,  ...,  3.6286, -0.2056,  1.2185],\n",
            "         ...,\n",
            "         [-1.3785, -2.5168, -2.0820,  ..., -0.1786,  1.9548,  1.6938],\n",
            "         [ 0.3589, -1.6577, -2.0041,  ...,  1.8286,  2.4344,  2.7384],\n",
            "         [-1.6864, -0.1597,  0.5971,  ...,  1.1140,  2.3813,  1.4662]],\n",
            "\n",
            "        [[ 2.6489,  1.9371,  2.4407,  ..., -2.4500,  2.6299,  3.0853],\n",
            "         [-0.0131,  0.0881,  1.5123,  ..., -0.4522,  1.3028,  1.9630],\n",
            "         [-0.4187, -0.4760, -1.4676,  ...,  1.0615,  0.8878, -0.7225],\n",
            "         ...,\n",
            "         [-0.8156,  1.1082, -0.7006,  ...,  1.3910, -1.3944,  2.1942],\n",
            "         [ 0.9475, -0.6594, -4.1884,  ...,  0.7431,  2.2639,  2.4557],\n",
            "         [-2.1019, -1.0681,  1.4092,  ...,  1.5164,  2.5146,  2.7727]],\n",
            "\n",
            "        [[ 2.6489,  1.9371,  2.4407,  ..., -2.4500,  2.6299,  3.0853],\n",
            "         [ 0.0912,  2.0809, -0.6695,  ..., -0.1854,  0.5812,  1.0914],\n",
            "         [-1.1004, -0.1534, -1.2405,  ...,  1.3605,  0.6756,  0.3173],\n",
            "         ...,\n",
            "         [-0.5192, -0.5278, -1.7133,  ...,  1.5985,  1.5205,  2.4063],\n",
            "         [ 0.7745, -0.7494, -2.8161,  ...,  1.4262,  2.3011,  1.4319],\n",
            "         [-1.6864, -0.1597,  0.5971,  ...,  1.1140,  2.3813,  1.4662]],\n",
            "\n",
            "        [[ 2.6489,  1.9371,  2.4407,  ..., -2.4500,  2.6299,  3.0853],\n",
            "         [-0.5249,  1.2059, -0.5560,  ..., -1.3696, -0.3065,  2.6393],\n",
            "         [ 0.8574,  1.9124, -0.9449,  ...,  2.3909,  0.8918, -0.0700],\n",
            "         ...,\n",
            "         [-0.5192, -0.5278, -1.7133,  ...,  1.5985,  1.5205,  2.4063],\n",
            "         [ 0.7745, -0.7494, -2.8161,  ...,  1.4262,  2.3011,  1.4319],\n",
            "         [-1.6864, -0.1597,  0.5971,  ...,  1.1140,  2.3813,  1.4662]],\n",
            "\n",
            "        [[ 2.6489,  1.9371,  2.4407,  ..., -2.4500,  2.6299,  3.0853],\n",
            "         [-0.1318, -0.3484, -0.2822,  ...,  1.2621, -0.6937,  3.0268],\n",
            "         [-0.8580,  0.0431, -1.2858,  ..., -0.0877,  0.5959, -1.0631],\n",
            "         ...,\n",
            "         [-0.5192, -0.5278, -1.7133,  ...,  1.5985,  1.5205,  2.4063],\n",
            "         [ 0.7745, -0.7494, -2.8161,  ...,  1.4262,  2.3011,  1.4319],\n",
            "         [-1.6864, -0.1597,  0.5971,  ...,  1.1140,  2.3813,  1.4662]]],\n",
            "       grad_fn=<AddBackward0>)\n",
            "\n",
            "Embeddings Layer Normalization:\n",
            " torch.Size([5, 25, 768])\n",
            "\n",
            "Embeddings Dropout Layer:\n",
            " torch.Size([5, 25, 768])\n"
          ]
        }
      ]
    },
    {
      "cell_type": "markdown",
      "source": [
        "## Encoder #1 Attention: Self-Attention - Multi-Head Attention"
      ],
      "metadata": {
        "id": "F6y9Gzc8UAns"
      }
    },
    {
      "cell_type": "code",
      "source": [
        "def attention(query, key, value, mask=None, dropout=None):\n",
        "    \"Compute 'Scaled Dot Product Attention'\"\n",
        "    d_k = query.size(-1)\n",
        "    scores = torch.matmul(query, key.transpose(-2, -1)) / math.sqrt(d_k)\n",
        "    if mask is not None:\n",
        "        scores = scores.masked_fill(mask == 0, -1e9)\n",
        "    p_attn = scores.softmax(dim=-1)\n",
        "    if dropout is not None:\n",
        "        p_attn = dropout(p_attn)\n",
        "    return torch.matmul(p_attn, value), p_attn"
      ],
      "metadata": {
        "id": "gBitegi72E0U"
      },
      "execution_count": null,
      "outputs": []
    },
    {
      "cell_type": "code",
      "source": [
        "class MultiHeadedAttention(nn.Module):\n",
        "    def __init__(self, h, d_model, dropout=0.1):\n",
        "        \"Take in model size and number of heads.\"\n",
        "        super(MultiHeadedAttention, self).__init__()\n",
        "        assert d_model % h == 0\n",
        "        # We assume d_v always equals d_k\n",
        "        self.d_k = d_model // h\n",
        "        self.h = h\n",
        "        self.linears = clones(nn.Linear(d_model, d_model), 4)\n",
        "        self.attn = None\n",
        "        self.dropout = nn.Dropout(p=dropout)\n",
        "\n",
        "    def forward(self, query, key, value, mask=None):\n",
        "        \"Implements Figure 2\"\n",
        "        if mask is not None:\n",
        "            # Same mask applied to all h heads.\n",
        "            mask = mask.unsqueeze(1)\n",
        "        nbatches = query.size(0)\n",
        "\n",
        "        # 1) Do all the linear projections in batch from d_model => h x d_k\n",
        "        query, key, value = [\n",
        "            lin(x).view(nbatches, -1, self.h, self.d_k).transpose(1, 2)\n",
        "            for lin, x in zip(self.linears, (query, key, value))\n",
        "        ]\n",
        "\n",
        "        # 2) Apply attention on all the projected vectors in batch.\n",
        "        x, self.attn = attention(\n",
        "            query, key, value, mask=mask, dropout=self.dropout\n",
        "        )\n",
        "\n",
        "        # 3) \"Concat\" using a view and apply a final linear.\n",
        "        x = (\n",
        "            x.transpose(1, 2)\n",
        "            .contiguous()\n",
        "            .view(nbatches, -1, self.h * self.d_k)\n",
        "        )\n",
        "        del query\n",
        "        del key\n",
        "        del value\n",
        "        return self.linears[-1](x)"
      ],
      "metadata": {
        "id": "Oe_XEzSs2NEU"
      },
      "execution_count": null,
      "outputs": []
    },
    {
      "cell_type": "markdown",
      "source": [
        "result"
      ],
      "metadata": {
        "id": "KjlEWtcx3fGI"
      }
    },
    {
      "cell_type": "code",
      "source": [
        "def viz_encoder_self():\n",
        "    model, example_data = run_model_example(n_examples=1)\n",
        "    example = example_data[\n",
        "        len(example_data) - 1\n",
        "    ]  # batch object for the final example\n",
        "\n",
        "    layer_viz = [\n",
        "        visualize_layer(\n",
        "            model, layer, get_encoder, len(example[1]), example[1], example[1]\n",
        "        )\n",
        "        for layer in range(6)\n",
        "    ]\n",
        "    return alt.hconcat(\n",
        "        layer_viz[0]\n",
        "        # & layer_viz[1]\n",
        "        & layer_viz[2]\n",
        "        # & layer_viz[3]\n",
        "        & layer_viz[4]\n",
        "        # & layer_viz[5]\n",
        "    )\n",
        "\n",
        "\n",
        "show_example(viz_encoder_self)"
      ],
      "metadata": {
        "id": "4STcMjHM3f7H"
      },
      "execution_count": null,
      "outputs": []
    },
    {
      "cell_type": "markdown",
      "source": [
        "## Add + Norm"
      ],
      "metadata": {
        "id": "s4XzrVjKU1CC"
      }
    },
    {
      "cell_type": "markdown",
      "source": [
        "## Encoder #2 Feed Forward NN"
      ],
      "metadata": {
        "id": "DJLDhpLSUV-Q"
      }
    },
    {
      "cell_type": "code",
      "source": [
        "class PositionwiseFeedForward(nn.Module):\n",
        "    \"Implements FFN equation.\"\n",
        "\n",
        "    def __init__(self, d_model, d_ff, dropout=0.1):\n",
        "        super(PositionwiseFeedForward, self).__init__()\n",
        "        self.w_1 = nn.Linear(d_model, d_ff)\n",
        "        self.w_2 = nn.Linear(d_ff, d_model)\n",
        "        self.dropout = nn.Dropout(dropout)\n",
        "\n",
        "    def forward(self, x):\n",
        "        return self.w_2(self.dropout(self.w_1(x).relu()))"
      ],
      "metadata": {
        "id": "XXMvGTQg2Tig"
      },
      "execution_count": null,
      "outputs": []
    },
    {
      "cell_type": "markdown",
      "source": [
        "## sources and more"
      ],
      "metadata": {
        "id": "g3WaonyybWGz"
      }
    },
    {
      "cell_type": "markdown",
      "source": [
        "[transformers inner workings](http://nlp.seas.harvard.edu/annotated-transformer/#positional-encoding)\n",
        "\n",
        "[bert inner workings](https://gmihaila.github.io/tutorial_notebooks/bert_inner_workings/)\n",
        "\n",
        "\n",
        "[bert visualization](https://colab.research.google.com/drive/1hXIQ77A4TYS4y3UthWF-Ci7V7vVUoxmQ?usp=sharing)"
      ],
      "metadata": {
        "id": "nx3twIhNcy4Y"
      }
    }
  ]
}